{
 "cells": [
  {
   "cell_type": "code",
   "execution_count": 17,
   "metadata": {},
   "outputs": [
    {
     "ename": "ValueError",
     "evalue": "Could not connect to Neo4j database. Please ensure that the url is correct",
     "output_type": "error",
     "traceback": [
      "\u001b[1;31m---------------------------------------------------------------------------\u001b[0m",
      "\u001b[1;31mTimeoutError\u001b[0m                              Traceback (most recent call last)",
      "File \u001b[1;32mc:\\Users\\FBNDRA96M\\AppData\\Local\\anaconda3\\envs\\graph_learning\\Lib\\site-packages\\neo4j\\_async_compat\\network\\_bolt_socket.py:523\u001b[0m, in \u001b[0;36mBoltSocket._connect\u001b[1;34m(cls, resolved_address, timeout, keep_alive)\u001b[0m\n\u001b[0;32m    522\u001b[0m log\u001b[39m.\u001b[39mdebug(\u001b[39m\"\u001b[39m\u001b[39m[#0000]  C: <OPEN> \u001b[39m\u001b[39m%s\u001b[39;00m\u001b[39m\"\u001b[39m, resolved_address)\n\u001b[1;32m--> 523\u001b[0m s\u001b[39m.\u001b[39mconnect(resolved_address)\n\u001b[0;32m    524\u001b[0m s\u001b[39m.\u001b[39msettimeout(t)\n",
      "\u001b[1;31mTimeoutError\u001b[0m: [WinError 10060] Impossibile stabilire la connessione. Risposta non corretta della parte connessa dopo l'intervallo di tempo oppure mancata risposta dall'host collegato",
      "\nDuring handling of the above exception, another exception occurred:\n",
      "\u001b[1;31mServiceUnavailable\u001b[0m                        Traceback (most recent call last)",
      "File \u001b[1;32mc:\\Users\\FBNDRA96M\\AppData\\Local\\anaconda3\\envs\\graph_learning\\Lib\\site-packages\\neo4j\\_async_compat\\network\\_bolt_socket.py:681\u001b[0m, in \u001b[0;36mBoltSocket.connect\u001b[1;34m(cls, address, tcp_timeout, deadline, custom_resolver, ssl_context, keep_alive)\u001b[0m\n\u001b[0;32m    680\u001b[0m \u001b[39mtry\u001b[39;00m:\n\u001b[1;32m--> 681\u001b[0m     s \u001b[39m=\u001b[39m BoltSocket\u001b[39m.\u001b[39;49m_connect(resolved_address, tcp_timeout,\n\u001b[0;32m    682\u001b[0m                             keep_alive)\n\u001b[0;32m    683\u001b[0m     s \u001b[39m=\u001b[39m BoltSocket\u001b[39m.\u001b[39m_secure(s, resolved_address\u001b[39m.\u001b[39m_host_name,\n\u001b[0;32m    684\u001b[0m                            ssl_context)\n",
      "File \u001b[1;32mc:\\Users\\FBNDRA96M\\AppData\\Local\\anaconda3\\envs\\graph_learning\\Lib\\site-packages\\neo4j\\_async_compat\\network\\_bolt_socket.py:532\u001b[0m, in \u001b[0;36mBoltSocket._connect\u001b[1;34m(cls, resolved_address, timeout, keep_alive)\u001b[0m\n\u001b[0;32m    531\u001b[0m     \u001b[39mcls\u001b[39m\u001b[39m.\u001b[39mclose_socket(s)\n\u001b[1;32m--> 532\u001b[0m     \u001b[39mraise\u001b[39;00m ServiceUnavailable(\n\u001b[0;32m    533\u001b[0m         \u001b[39m\"\u001b[39m\u001b[39mTimed out trying to establish connection to \u001b[39m\u001b[39m{!r}\u001b[39;00m\u001b[39m\"\u001b[39m\u001b[39m.\u001b[39mformat(\n\u001b[0;32m    534\u001b[0m             resolved_address))\n\u001b[0;32m    535\u001b[0m \u001b[39mexcept\u001b[39;00m \u001b[39mException\u001b[39;00m \u001b[39mas\u001b[39;00m error:\n",
      "\u001b[1;31mServiceUnavailable\u001b[0m: Timed out trying to establish connection to ResolvedIPv4Address(('44.200.7.27', 7687))",
      "\nThe above exception was the direct cause of the following exception:\n",
      "\u001b[1;31mServiceUnavailable\u001b[0m                        Traceback (most recent call last)",
      "File \u001b[1;32mc:\\Users\\FBNDRA96M\\AppData\\Local\\anaconda3\\envs\\graph_learning\\Lib\\site-packages\\langchain\\graphs\\neo4j_graph.py:75\u001b[0m, in \u001b[0;36mNeo4jGraph.__init__\u001b[1;34m(self, url, username, password, database)\u001b[0m\n\u001b[0;32m     74\u001b[0m \u001b[39mtry\u001b[39;00m:\n\u001b[1;32m---> 75\u001b[0m     \u001b[39mself\u001b[39;49m\u001b[39m.\u001b[39;49m_driver\u001b[39m.\u001b[39;49mverify_connectivity()\n\u001b[0;32m     76\u001b[0m \u001b[39mexcept\u001b[39;00m neo4j\u001b[39m.\u001b[39mexceptions\u001b[39m.\u001b[39mServiceUnavailable:\n",
      "File \u001b[1;32mc:\\Users\\FBNDRA96M\\AppData\\Local\\anaconda3\\envs\\graph_learning\\Lib\\site-packages\\neo4j\\_sync\\driver.py:974\u001b[0m, in \u001b[0;36mDriver.verify_connectivity\u001b[1;34m(self, **config)\u001b[0m\n\u001b[0;32m    973\u001b[0m session_config \u001b[39m=\u001b[39m \u001b[39mself\u001b[39m\u001b[39m.\u001b[39m_read_session_config(config)\n\u001b[1;32m--> 974\u001b[0m \u001b[39mself\u001b[39;49m\u001b[39m.\u001b[39;49m_get_server_info(session_config)\n",
      "File \u001b[1;32mc:\\Users\\FBNDRA96M\\AppData\\Local\\anaconda3\\envs\\graph_learning\\Lib\\site-packages\\neo4j\\_sync\\driver.py:1185\u001b[0m, in \u001b[0;36mDriver._get_server_info\u001b[1;34m(self, session_config)\u001b[0m\n\u001b[0;32m   1184\u001b[0m \u001b[39mwith\u001b[39;00m \u001b[39mself\u001b[39m\u001b[39m.\u001b[39m_session(session_config) \u001b[39mas\u001b[39;00m session:\n\u001b[1;32m-> 1185\u001b[0m     \u001b[39mreturn\u001b[39;00m session\u001b[39m.\u001b[39;49m_get_server_info()\n",
      "File \u001b[1;32mc:\\Users\\FBNDRA96M\\AppData\\Local\\anaconda3\\envs\\graph_learning\\Lib\\site-packages\\neo4j\\_sync\\work\\session.py:173\u001b[0m, in \u001b[0;36mSession._get_server_info\u001b[1;34m(self)\u001b[0m\n\u001b[0;32m    172\u001b[0m \u001b[39massert\u001b[39;00m \u001b[39mnot\u001b[39;00m \u001b[39mself\u001b[39m\u001b[39m.\u001b[39m_connection\n\u001b[1;32m--> 173\u001b[0m \u001b[39mself\u001b[39;49m\u001b[39m.\u001b[39;49m_connect(READ_ACCESS, liveness_check_timeout\u001b[39m=\u001b[39;49m\u001b[39m0\u001b[39;49m)\n\u001b[0;32m    174\u001b[0m server_info \u001b[39m=\u001b[39m \u001b[39mself\u001b[39m\u001b[39m.\u001b[39m_connection\u001b[39m.\u001b[39mserver_info\n",
      "File \u001b[1;32mc:\\Users\\FBNDRA96M\\AppData\\Local\\anaconda3\\envs\\graph_learning\\Lib\\site-packages\\neo4j\\_sync\\work\\session.py:131\u001b[0m, in \u001b[0;36mSession._connect\u001b[1;34m(self, access_mode, **acquire_kwargs)\u001b[0m\n\u001b[0;32m    130\u001b[0m \u001b[39mtry\u001b[39;00m:\n\u001b[1;32m--> 131\u001b[0m     \u001b[39msuper\u001b[39;49m()\u001b[39m.\u001b[39;49m_connect(\n\u001b[0;32m    132\u001b[0m         access_mode, auth\u001b[39m=\u001b[39;49m\u001b[39mself\u001b[39;49m\u001b[39m.\u001b[39;49m_config\u001b[39m.\u001b[39;49mauth, \u001b[39m*\u001b[39;49m\u001b[39m*\u001b[39;49macquire_kwargs\n\u001b[0;32m    133\u001b[0m     )\n\u001b[0;32m    134\u001b[0m \u001b[39mexcept\u001b[39;00m asyncio\u001b[39m.\u001b[39mCancelledError:\n",
      "File \u001b[1;32mc:\\Users\\FBNDRA96M\\AppData\\Local\\anaconda3\\envs\\graph_learning\\Lib\\site-packages\\neo4j\\_sync\\work\\workspace.py:178\u001b[0m, in \u001b[0;36mWorkspace._connect\u001b[1;34m(self, access_mode, auth, **acquire_kwargs)\u001b[0m\n\u001b[0;32m    177\u001b[0m acquire_kwargs_\u001b[39m.\u001b[39mupdate(acquire_kwargs)\n\u001b[1;32m--> 178\u001b[0m \u001b[39mself\u001b[39m\u001b[39m.\u001b[39m_connection \u001b[39m=\u001b[39m \u001b[39mself\u001b[39;49m\u001b[39m.\u001b[39;49m_pool\u001b[39m.\u001b[39;49macquire(\u001b[39m*\u001b[39;49m\u001b[39m*\u001b[39;49macquire_kwargs_)\n\u001b[0;32m    179\u001b[0m \u001b[39mself\u001b[39m\u001b[39m.\u001b[39m_connection_access_mode \u001b[39m=\u001b[39m access_mode\n",
      "File \u001b[1;32mc:\\Users\\FBNDRA96M\\AppData\\Local\\anaconda3\\envs\\graph_learning\\Lib\\site-packages\\neo4j\\_sync\\io\\_pool.py:528\u001b[0m, in \u001b[0;36mBoltPool.acquire\u001b[1;34m(self, access_mode, timeout, database, bookmarks, auth, liveness_check_timeout)\u001b[0m\n\u001b[0;32m    527\u001b[0m deadline \u001b[39m=\u001b[39m Deadline\u001b[39m.\u001b[39mfrom_timeout_or_deadline(timeout)\n\u001b[1;32m--> 528\u001b[0m \u001b[39mreturn\u001b[39;00m \u001b[39mself\u001b[39;49m\u001b[39m.\u001b[39;49m_acquire(\n\u001b[0;32m    529\u001b[0m     \u001b[39mself\u001b[39;49m\u001b[39m.\u001b[39;49maddress, auth, deadline, liveness_check_timeout\n\u001b[0;32m    530\u001b[0m )\n",
      "File \u001b[1;32mc:\\Users\\FBNDRA96M\\AppData\\Local\\anaconda3\\envs\\graph_learning\\Lib\\site-packages\\neo4j\\_sync\\io\\_pool.py:315\u001b[0m, in \u001b[0;36mIOPool._acquire\u001b[1;34m(self, address, auth, deadline, liveness_check_timeout)\u001b[0m\n\u001b[0;32m    314\u001b[0m log\u001b[39m.\u001b[39mdebug(\u001b[39m\"\u001b[39m\u001b[39m[#0000]  _: <POOL> trying to hand out new connection\u001b[39m\u001b[39m\"\u001b[39m)\n\u001b[1;32m--> 315\u001b[0m \u001b[39mreturn\u001b[39;00m connection_creator()\n",
      "File \u001b[1;32mc:\\Users\\FBNDRA96M\\AppData\\Local\\anaconda3\\envs\\graph_learning\\Lib\\site-packages\\neo4j\\_sync\\io\\_pool.py:167\u001b[0m, in \u001b[0;36mIOPool._acquire_new_later.<locals>.connection_creator\u001b[1;34m()\u001b[0m\n\u001b[0;32m    166\u001b[0m \u001b[39mtry\u001b[39;00m:\n\u001b[1;32m--> 167\u001b[0m     connection \u001b[39m=\u001b[39m \u001b[39mself\u001b[39;49m\u001b[39m.\u001b[39;49mopener(\n\u001b[0;32m    168\u001b[0m         address, auth \u001b[39mor\u001b[39;49;00m \u001b[39mself\u001b[39;49m\u001b[39m.\u001b[39;49mpool_config\u001b[39m.\u001b[39;49mauth, deadline\n\u001b[0;32m    169\u001b[0m     )\n\u001b[0;32m    170\u001b[0m \u001b[39mexcept\u001b[39;00m ServiceUnavailable:\n",
      "File \u001b[1;32mc:\\Users\\FBNDRA96M\\AppData\\Local\\anaconda3\\envs\\graph_learning\\Lib\\site-packages\\neo4j\\_sync\\io\\_pool.py:502\u001b[0m, in \u001b[0;36mBoltPool.open.<locals>.opener\u001b[1;34m(addr, auth_manager, deadline)\u001b[0m\n\u001b[0;32m    501\u001b[0m \u001b[39mdef\u001b[39;00m \u001b[39mopener\u001b[39m(addr, auth_manager, deadline):\n\u001b[1;32m--> 502\u001b[0m     \u001b[39mreturn\u001b[39;00m Bolt\u001b[39m.\u001b[39;49mopen(\n\u001b[0;32m    503\u001b[0m         addr, auth_manager\u001b[39m=\u001b[39;49mauth_manager, deadline\u001b[39m=\u001b[39;49mdeadline,\n\u001b[0;32m    504\u001b[0m         routing_context\u001b[39m=\u001b[39;49m\u001b[39mNone\u001b[39;49;00m, pool_config\u001b[39m=\u001b[39;49mpool_config\n\u001b[0;32m    505\u001b[0m     )\n",
      "File \u001b[1;32mc:\\Users\\FBNDRA96M\\AppData\\Local\\anaconda3\\envs\\graph_learning\\Lib\\site-packages\\neo4j\\_sync\\io\\_bolt.py:402\u001b[0m, in \u001b[0;36mBolt.open\u001b[1;34m(cls, address, auth_manager, deadline, routing_context, pool_config)\u001b[0m\n\u001b[0;32m    399\u001b[0m     deadline \u001b[39m=\u001b[39m Deadline(\u001b[39mNone\u001b[39;00m)\n\u001b[0;32m    401\u001b[0m s, protocol_version, handshake, data \u001b[39m=\u001b[39m \\\n\u001b[1;32m--> 402\u001b[0m     BoltSocket\u001b[39m.\u001b[39;49mconnect(\n\u001b[0;32m    403\u001b[0m         address,\n\u001b[0;32m    404\u001b[0m         tcp_timeout\u001b[39m=\u001b[39;49mpool_config\u001b[39m.\u001b[39;49mconnection_timeout,\n\u001b[0;32m    405\u001b[0m         deadline\u001b[39m=\u001b[39;49mdeadline,\n\u001b[0;32m    406\u001b[0m         custom_resolver\u001b[39m=\u001b[39;49mpool_config\u001b[39m.\u001b[39;49mresolver,\n\u001b[0;32m    407\u001b[0m         ssl_context\u001b[39m=\u001b[39;49mpool_config\u001b[39m.\u001b[39;49mget_ssl_context(),\n\u001b[0;32m    408\u001b[0m         keep_alive\u001b[39m=\u001b[39;49mpool_config\u001b[39m.\u001b[39;49mkeep_alive,\n\u001b[0;32m    409\u001b[0m     )\n\u001b[0;32m    411\u001b[0m pool_config\u001b[39m.\u001b[39mprotocol_version \u001b[39m=\u001b[39m protocol_version\n",
      "File \u001b[1;32mc:\\Users\\FBNDRA96M\\AppData\\Local\\anaconda3\\envs\\graph_learning\\Lib\\site-packages\\neo4j\\_async_compat\\network\\_bolt_socket.py:709\u001b[0m, in \u001b[0;36mBoltSocket.connect\u001b[1;34m(cls, address, tcp_timeout, deadline, custom_resolver, ssl_context, keep_alive)\u001b[0m\n\u001b[0;32m    708\u001b[0m \u001b[39melse\u001b[39;00m:\n\u001b[1;32m--> 709\u001b[0m     \u001b[39mraise\u001b[39;00m ServiceUnavailable(\n\u001b[0;32m    710\u001b[0m         \u001b[39m\"\u001b[39m\u001b[39mCouldn\u001b[39m\u001b[39m'\u001b[39m\u001b[39mt connect to \u001b[39m\u001b[39m%s\u001b[39;00m\u001b[39m (resolved to \u001b[39m\u001b[39m%s\u001b[39;00m\u001b[39m):\u001b[39m\u001b[39m\\n\u001b[39;00m\u001b[39m%s\u001b[39;00m\u001b[39m\"\u001b[39m \u001b[39m%\u001b[39m (\n\u001b[0;32m    711\u001b[0m             \u001b[39mstr\u001b[39m(address), \u001b[39mtuple\u001b[39m(\u001b[39mmap\u001b[39m(\u001b[39mstr\u001b[39m, resolved_addresses)),\n\u001b[0;32m    712\u001b[0m             \u001b[39m\"\u001b[39m\u001b[39m\\n\u001b[39;00m\u001b[39m\"\u001b[39m\u001b[39m.\u001b[39mjoin(\u001b[39mmap\u001b[39m(\u001b[39mstr\u001b[39m, errors))\n\u001b[0;32m    713\u001b[0m         )\n\u001b[0;32m    714\u001b[0m     ) \u001b[39mfrom\u001b[39;00m \u001b[39merrors\u001b[39;00m[\u001b[39m0\u001b[39m]\n",
      "\u001b[1;31mServiceUnavailable\u001b[0m: Couldn't connect to 44.200.7.27:7687 (resolved to ()):\nTimed out trying to establish connection to ResolvedIPv4Address(('44.200.7.27', 7687))",
      "\nDuring handling of the above exception, another exception occurred:\n",
      "\u001b[1;31mValueError\u001b[0m                                Traceback (most recent call last)",
      "\u001b[1;32mc:\\Users\\FBNDRA96M\\OneDrive - DEDAGROUP SPA\\Progetti\\DedaGPT\\Neo4j Chatbot\\llm-chatbot-python\\prova.ipynb Cell 1\u001b[0m line \u001b[0;36m3\n\u001b[0;32m      <a href='vscode-notebook-cell:/c%3A/Users/FBNDRA96M/OneDrive%20-%20DEDAGROUP%20SPA/Progetti/DedaGPT/Neo4j%20Chatbot/llm-chatbot-python/prova.ipynb#W0sZmlsZQ%3D%3D?line=0'>1</a>\u001b[0m \u001b[39mfrom\u001b[39;00m \u001b[39mlangchain\u001b[39;00m\u001b[39m.\u001b[39;00m\u001b[39mgraphs\u001b[39;00m \u001b[39mimport\u001b[39;00m Neo4jGraph\n\u001b[1;32m----> <a href='vscode-notebook-cell:/c%3A/Users/FBNDRA96M/OneDrive%20-%20DEDAGROUP%20SPA/Progetti/DedaGPT/Neo4j%20Chatbot/llm-chatbot-python/prova.ipynb#W0sZmlsZQ%3D%3D?line=2'>3</a>\u001b[0m graph \u001b[39m=\u001b[39m Neo4jGraph(\n\u001b[0;32m      <a href='vscode-notebook-cell:/c%3A/Users/FBNDRA96M/OneDrive%20-%20DEDAGROUP%20SPA/Progetti/DedaGPT/Neo4j%20Chatbot/llm-chatbot-python/prova.ipynb#W0sZmlsZQ%3D%3D?line=3'>4</a>\u001b[0m     url\u001b[39m=\u001b[39;49m\u001b[39m\"\u001b[39;49m\u001b[39mbolt+s://b4125c9b5766887e8fc1f2a0217adc72.neo4jsandbox.com:7687\u001b[39;49m\u001b[39m\"\u001b[39;49m,\n\u001b[0;32m      <a href='vscode-notebook-cell:/c%3A/Users/FBNDRA96M/OneDrive%20-%20DEDAGROUP%20SPA/Progetti/DedaGPT/Neo4j%20Chatbot/llm-chatbot-python/prova.ipynb#W0sZmlsZQ%3D%3D?line=4'>5</a>\u001b[0m     username\u001b[39m=\u001b[39;49m\u001b[39m\"\u001b[39;49m\u001b[39mneo4j\u001b[39;49m\u001b[39m\"\u001b[39;49m,\n\u001b[0;32m      <a href='vscode-notebook-cell:/c%3A/Users/FBNDRA96M/OneDrive%20-%20DEDAGROUP%20SPA/Progetti/DedaGPT/Neo4j%20Chatbot/llm-chatbot-python/prova.ipynb#W0sZmlsZQ%3D%3D?line=5'>6</a>\u001b[0m     password\u001b[39m=\u001b[39;49m\u001b[39m\"\u001b[39;49m\u001b[39mbells-drips-decks\u001b[39;49m\u001b[39m\"\u001b[39;49m,\n\u001b[0;32m      <a href='vscode-notebook-cell:/c%3A/Users/FBNDRA96M/OneDrive%20-%20DEDAGROUP%20SPA/Progetti/DedaGPT/Neo4j%20Chatbot/llm-chatbot-python/prova.ipynb#W0sZmlsZQ%3D%3D?line=6'>7</a>\u001b[0m )\n\u001b[0;32m      <a href='vscode-notebook-cell:/c%3A/Users/FBNDRA96M/OneDrive%20-%20DEDAGROUP%20SPA/Progetti/DedaGPT/Neo4j%20Chatbot/llm-chatbot-python/prova.ipynb#W0sZmlsZQ%3D%3D?line=8'>9</a>\u001b[0m r \u001b[39m=\u001b[39m graph\u001b[39m.\u001b[39mquery(\u001b[39m\"\u001b[39m\u001b[39mMATCH (m:Movie\u001b[39m\u001b[39m{\u001b[39m\u001b[39mtitle: \u001b[39m\u001b[39m'\u001b[39m\u001b[39mToy Story\u001b[39m\u001b[39m'\u001b[39m\u001b[39m}) RETURN m\u001b[39m\u001b[39m\"\u001b[39m)\n\u001b[0;32m     <a href='vscode-notebook-cell:/c%3A/Users/FBNDRA96M/OneDrive%20-%20DEDAGROUP%20SPA/Progetti/DedaGPT/Neo4j%20Chatbot/llm-chatbot-python/prova.ipynb#W0sZmlsZQ%3D%3D?line=9'>10</a>\u001b[0m \u001b[39mprint\u001b[39m(r)\n",
      "File \u001b[1;32mc:\\Users\\FBNDRA96M\\AppData\\Local\\anaconda3\\envs\\graph_learning\\Lib\\site-packages\\langchain\\graphs\\neo4j_graph.py:77\u001b[0m, in \u001b[0;36mNeo4jGraph.__init__\u001b[1;34m(self, url, username, password, database)\u001b[0m\n\u001b[0;32m     75\u001b[0m     \u001b[39mself\u001b[39m\u001b[39m.\u001b[39m_driver\u001b[39m.\u001b[39mverify_connectivity()\n\u001b[0;32m     76\u001b[0m \u001b[39mexcept\u001b[39;00m neo4j\u001b[39m.\u001b[39mexceptions\u001b[39m.\u001b[39mServiceUnavailable:\n\u001b[1;32m---> 77\u001b[0m     \u001b[39mraise\u001b[39;00m \u001b[39mValueError\u001b[39;00m(\n\u001b[0;32m     78\u001b[0m         \u001b[39m\"\u001b[39m\u001b[39mCould not connect to Neo4j database. \u001b[39m\u001b[39m\"\u001b[39m\n\u001b[0;32m     79\u001b[0m         \u001b[39m\"\u001b[39m\u001b[39mPlease ensure that the url is correct\u001b[39m\u001b[39m\"\u001b[39m\n\u001b[0;32m     80\u001b[0m     )\n\u001b[0;32m     81\u001b[0m \u001b[39mexcept\u001b[39;00m neo4j\u001b[39m.\u001b[39mexceptions\u001b[39m.\u001b[39mAuthError:\n\u001b[0;32m     82\u001b[0m     \u001b[39mraise\u001b[39;00m \u001b[39mValueError\u001b[39;00m(\n\u001b[0;32m     83\u001b[0m         \u001b[39m\"\u001b[39m\u001b[39mCould not connect to Neo4j database. \u001b[39m\u001b[39m\"\u001b[39m\n\u001b[0;32m     84\u001b[0m         \u001b[39m\"\u001b[39m\u001b[39mPlease ensure that the username and password are correct\u001b[39m\u001b[39m\"\u001b[39m\n\u001b[0;32m     85\u001b[0m     )\n",
      "\u001b[1;31mValueError\u001b[0m: Could not connect to Neo4j database. Please ensure that the url is correct"
     ]
    }
   ],
   "source": [
    "from langchain.graphs import Neo4jGraph\n",
    "\n",
    "graph = Neo4jGraph(\n",
    "    url=\"bolt+s://b4125c9b5766887e8fc1f2a0217adc72.neo4jsandbox.com:7687\",\n",
    "    username=\"neo4j\",\n",
    "    password=\"bells-drips-decks\",\n",
    ")\n",
    "\n",
    "r = graph.query(\"MATCH (m:Movie{title: 'Toy Story'}) RETURN m\")\n",
    "print(r)"
   ]
  },
  {
   "cell_type": "markdown",
   "metadata": {},
   "source": [
    "# Agents\n"
   ]
  },
  {
   "cell_type": "code",
   "execution_count": null,
   "metadata": {},
   "outputs": [],
   "source": [
    "from langchain.prompts import PromptTemplate\n",
    "from langchain.chat_models import ChatOpenAI\n",
    "from langchain.chains import LLMChain\n",
    "from langchain.chains.conversation.memory import ConversationBufferMemory\n",
    "from langchain.agents import AgentType, initialize_agent\n",
    "from langchain.tools import Tool\n",
    "\n",
    "llm = ChatOpenAI(\n",
    "    openai_api_key=\"sk-...\"\n",
    ")\n",
    "\n",
    "prompt = PromptTemplate(\n",
    "    template=\"\"\"\n",
    "    You are a movie expert. You find movies from a genre or plot.\n",
    "\n",
    "    ChatHistory:{chat_history}\n",
    "    Question:{input}\n",
    "    \"\"\",\n",
    "    input_variables=[\"chat_history\", \"input\"]\n",
    "    )\n",
    "\n",
    "memory = ConversationBufferMemory(memory_key=\"chat_history\", return_messages=True)\n",
    "\n",
    "chat_chain = LLMChain(llm=llm, prompt=prompt, memory=memory)\n",
    "\n",
    "tools = [\n",
    "    Tool.from_function(\n",
    "        name=\"ChatOpenAI\",\n",
    "        description=\"For when you need to chat about movies. The question will be a string. Return a string.\",\n",
    "        func=chat_chain.run,\n",
    "        return_direct=True\n",
    "    )\n",
    "]\n",
    "\n",
    "agent = initialize_agent(\n",
    "    tools, llm, memory=memory,\n",
    "    agent=AgentType.CHAT_CONVERSATIONAL_REACT_DESCRIPTION,\n",
    "    max_iterations=3,\n",
    "    verbose=True,\n",
    "    handle_parsing_errors=True,\n",
    ")\n",
    "\n",
    "\"\"\"\n",
    "- max_iterations - the maximum number of iterations to run the LLM for. This is useful in preventing the LLM from running for too long or entering an infinite loop.\n",
    "\n",
    "- verbose - if True the agent will print out the LLM output and the tool output.\n",
    "\n",
    "- handle_parsing_errors - if True the agent will handle parsing errors and return a message to the user.\n",
    "\"\"\"\n",
    "\n",
    "\n",
    "while True:\n",
    "    q = input(\">\")\n",
    "    print(agent.run(q))"
   ]
  },
  {
   "cell_type": "markdown",
   "metadata": {},
   "source": [
    "# LLM & Neo4j course"
   ]
  },
  {
   "cell_type": "code",
   "execution_count": 8,
   "metadata": {},
   "outputs": [
    {
     "name": "stderr",
     "output_type": "stream",
     "text": [
      "Failed to write data to connection IPv4Address(('44.200.7.27', 7687)) (ResolvedIPv4Address(('44.200.7.27', 7687)))\n"
     ]
    },
    {
     "name": "stdout",
     "output_type": "stream",
     "text": [
      "[{'m': {'languages': ['English'], 'year': 1995, 'imdbId': '0114709', 'runtime': 81, 'imdbRating': 8.3, 'movieId': '1', 'countries': ['USA'], 'imdbVotes': 591836, 'title': 'Toy Story', 'url': 'https://themoviedb.org/movie/862', 'revenue': 373554033, 'tmdbId': '862', 'plot': \"A cowboy doll is profoundly threatened and jealous when a new spaceman figure supplants him as top toy in a boy's room.\", 'poster': 'https://image.tmdb.org/t/p/w440_and_h660_face/uXDfjJbdP4ijW5hWSBrPrlKpxab.jpg', 'released': '1995-11-22', 'budget': 30000000}}]\n"
     ]
    }
   ],
   "source": [
    "from langchain.graphs import Neo4jGraph\n",
    "\n",
    "graph = Neo4jGraph(\n",
    "    url=\"bolt://3.93.219.226:7687\",\n",
    "    username=\"neo4j\",\n",
    "    password=\"ticks-sex-fields\"\n",
    ")\n",
    "\n",
    "r = graph.query(\"MATCH (m:Movie{title: 'Toy Story'}) RETURN m\")\n",
    "print(r)"
   ]
  },
  {
   "cell_type": "code",
   "execution_count": 9,
   "metadata": {},
   "outputs": [
    {
     "name": "stdout",
     "output_type": "stream",
     "text": [
      "\n",
      "        Node properties are the following:\n",
      "        [{'labels': 'Movie', 'properties': [{'property': 'url', 'type': 'STRING'}, {'property': 'runtime', 'type': 'INTEGER'}, {'property': 'revenue', 'type': 'INTEGER'}, {'property': 'budget', 'type': 'INTEGER'}, {'property': 'imdbRating', 'type': 'FLOAT'}, {'property': 'released', 'type': 'STRING'}, {'property': 'countries', 'type': 'LIST'}, {'property': 'languages', 'type': 'LIST'}, {'property': 'plot', 'type': 'STRING'}, {'property': 'imdbVotes', 'type': 'INTEGER'}, {'property': 'imdbId', 'type': 'STRING'}, {'property': 'year', 'type': 'INTEGER'}, {'property': 'poster', 'type': 'STRING'}, {'property': 'movieId', 'type': 'STRING'}, {'property': 'tmdbId', 'type': 'STRING'}, {'property': 'title', 'type': 'STRING'}]}, {'labels': 'Genre', 'properties': [{'property': 'name', 'type': 'STRING'}]}, {'labels': 'User', 'properties': [{'property': 'userId', 'type': 'STRING'}, {'property': 'name', 'type': 'STRING'}]}, {'labels': 'Actor', 'properties': [{'property': 'url', 'type': 'STRING'}, {'property': 'bornIn', 'type': 'STRING'}, {'property': 'bio', 'type': 'STRING'}, {'property': 'died', 'type': 'DATE'}, {'property': 'born', 'type': 'DATE'}, {'property': 'imdbId', 'type': 'STRING'}, {'property': 'name', 'type': 'STRING'}, {'property': 'poster', 'type': 'STRING'}, {'property': 'tmdbId', 'type': 'STRING'}]}, {'labels': 'Director', 'properties': [{'property': 'url', 'type': 'STRING'}, {'property': 'bornIn', 'type': 'STRING'}, {'property': 'born', 'type': 'DATE'}, {'property': 'died', 'type': 'DATE'}, {'property': 'tmdbId', 'type': 'STRING'}, {'property': 'imdbId', 'type': 'STRING'}, {'property': 'name', 'type': 'STRING'}, {'property': 'poster', 'type': 'STRING'}, {'property': 'bio', 'type': 'STRING'}]}, {'labels': 'Person', 'properties': [{'property': 'url', 'type': 'STRING'}, {'property': 'bornIn', 'type': 'STRING'}, {'property': 'bio', 'type': 'STRING'}, {'property': 'died', 'type': 'DATE'}, {'property': 'born', 'type': 'DATE'}, {'property': 'imdbId', 'type': 'STRING'}, {'property': 'name', 'type': 'STRING'}, {'property': 'poster', 'type': 'STRING'}, {'property': 'tmdbId', 'type': 'STRING'}]}]\n",
      "        Relationship properties are the following:\n",
      "        [{'properties': [{'property': 'rating', 'type': 'FLOAT'}, {'property': 'timestamp', 'type': 'INTEGER'}], 'type': 'RATED'}, {'properties': [{'property': 'role', 'type': 'STRING'}], 'type': 'ACTED_IN'}, {'properties': [{'property': 'role', 'type': 'STRING'}], 'type': 'DIRECTED'}]\n",
      "        The relationships are the following:\n",
      "        ['(:Movie)-[:IN_GENRE]->(:Genre)', '(:User)-[:RATED]->(:Movie)', '(:Actor)-[:ACTED_IN]->(:Movie)', '(:Actor)-[:DIRECTED]->(:Movie)', '(:Director)-[:DIRECTED]->(:Movie)', '(:Director)-[:ACTED_IN]->(:Movie)', '(:Person)-[:ACTED_IN]->(:Movie)', '(:Person)-[:DIRECTED]->(:Movie)']\n",
      "        \n"
     ]
    }
   ],
   "source": [
    "print(graph.schema)"
   ]
  },
  {
   "cell_type": "markdown",
   "metadata": {},
   "source": [
    "Querying a vector index"
   ]
  },
  {
   "cell_type": "code",
   "execution_count": null,
   "metadata": {},
   "outputs": [],
   "source": [
    "from langchain.embeddings.openai import OpenAIEmbeddings\n",
    "from langchain.vectorstores.neo4j_vector import Neo4jVector\n",
    "\n",
    "embedding_provider = OpenAIEmbeddings(openai_api_key=\"sk-...\")\n",
    "\n",
    "movie_plot_vector = Neo4jVector.from_existing_index(\n",
    "    embedding_provider,\n",
    "    url=\"bolt://3.93.219.226:7687\",\n",
    "    username=\"neo4j\",\n",
    "    password=\"ticks-sex-fields\",\n",
    "    index_name=\"moviePlots\",\n",
    "    embedding_node_property=\"embedding\",\n",
    "    text_node_property=\"plot\",\n",
    ")\n",
    "\n",
    "r = movie_plot_vector.similarity_search(\"A movie where aliens land and attack earth.\")\n",
    "print(r)"
   ]
  },
  {
   "cell_type": "code",
   "execution_count": null,
   "metadata": {},
   "outputs": [],
   "source": [
    "from langchain.embeddings.openai import OpenAIEmbeddings\n",
    "from langchain.vectorstores.neo4j_vector import Neo4jVector\n",
    "\n",
    "embedding_provider = OpenAIEmbeddings()\n",
    "\n",
    "documents = [\"Text to be indexed\"]\n",
    "\n",
    "new_vector = Neo4jVector.from_documents(\n",
    "    documents,\n",
    "    embedding_provider,\n",
    "    url=\"bolt://3.93.219.226:7687\",\n",
    "    username=\"neo4j\",\n",
    "    password=\"ticks-sex-fields\",\n",
    "    index_name=\"myVectorIndex\",\n",
    "    node_label=\"Chunk\",\n",
    "    text_node_property=\"text\",\n",
    "    embedding_node_property=\"embedding\",\n",
    "    create_id_index=True,\n",
    ")"
   ]
  },
  {
   "cell_type": "markdown",
   "metadata": {},
   "source": [
    "The following code would create embeddings and a new index called myVectorIndex in the database for Chunk nodes with a text property:"
   ]
  },
  {
   "cell_type": "code",
   "execution_count": null,
   "metadata": {},
   "outputs": [],
   "source": [
    "from langchain.embeddings.openai import OpenAIEmbeddings\n",
    "from langchain.vectorstores.neo4j_vector import Neo4jVector\n",
    "\n",
    "embedding_provider = OpenAIEmbeddings()\n",
    "\n",
    "documents = [\"Text to be indexed\"]\n",
    "\n",
    "new_vector = Neo4jVector.from_documents(\n",
    "    documents,\n",
    "    embedding_provider,\n",
    "    url=\"bolt://3.93.219.226:7687\",\n",
    "    username=\"neo4j\",\n",
    "    password=\"ticks-sex-fields\",\n",
    "    index_name=\"myVectorIndex\",\n",
    "    node_label=\"Chunk\",\n",
    "    text_node_property=\"text\",\n",
    "    embedding_node_property=\"embedding\",\n",
    "    create_id_index=True,\n",
    ")"
   ]
  },
  {
   "cell_type": "code",
   "execution_count": 13,
   "metadata": {},
   "outputs": [
    {
     "ename": "ValueError",
     "evalue": "Could not connect to Neo4j database. Please ensure that the url is correct",
     "output_type": "error",
     "traceback": [
      "\u001b[1;31m---------------------------------------------------------------------------\u001b[0m",
      "\u001b[1;31mTimeoutError\u001b[0m                              Traceback (most recent call last)",
      "File \u001b[1;32mc:\\Users\\FBNDRA96M\\AppData\\Local\\anaconda3\\envs\\graph_learning\\Lib\\site-packages\\neo4j\\_async_compat\\network\\_bolt_socket.py:523\u001b[0m, in \u001b[0;36mBoltSocket._connect\u001b[1;34m(cls, resolved_address, timeout, keep_alive)\u001b[0m\n\u001b[0;32m    522\u001b[0m log\u001b[39m.\u001b[39mdebug(\u001b[39m\"\u001b[39m\u001b[39m[#0000]  C: <OPEN> \u001b[39m\u001b[39m%s\u001b[39;00m\u001b[39m\"\u001b[39m, resolved_address)\n\u001b[1;32m--> 523\u001b[0m s\u001b[39m.\u001b[39mconnect(resolved_address)\n\u001b[0;32m    524\u001b[0m s\u001b[39m.\u001b[39msettimeout(t)\n",
      "\u001b[1;31mTimeoutError\u001b[0m: [WinError 10060] Impossibile stabilire la connessione. Risposta non corretta della parte connessa dopo l'intervallo di tempo oppure mancata risposta dall'host collegato",
      "\nDuring handling of the above exception, another exception occurred:\n",
      "\u001b[1;31mServiceUnavailable\u001b[0m                        Traceback (most recent call last)",
      "File \u001b[1;32mc:\\Users\\FBNDRA96M\\AppData\\Local\\anaconda3\\envs\\graph_learning\\Lib\\site-packages\\neo4j\\_async_compat\\network\\_bolt_socket.py:681\u001b[0m, in \u001b[0;36mBoltSocket.connect\u001b[1;34m(cls, address, tcp_timeout, deadline, custom_resolver, ssl_context, keep_alive)\u001b[0m\n\u001b[0;32m    680\u001b[0m \u001b[39mtry\u001b[39;00m:\n\u001b[1;32m--> 681\u001b[0m     s \u001b[39m=\u001b[39m BoltSocket\u001b[39m.\u001b[39;49m_connect(resolved_address, tcp_timeout,\n\u001b[0;32m    682\u001b[0m                             keep_alive)\n\u001b[0;32m    683\u001b[0m     s \u001b[39m=\u001b[39m BoltSocket\u001b[39m.\u001b[39m_secure(s, resolved_address\u001b[39m.\u001b[39m_host_name,\n\u001b[0;32m    684\u001b[0m                            ssl_context)\n",
      "File \u001b[1;32mc:\\Users\\FBNDRA96M\\AppData\\Local\\anaconda3\\envs\\graph_learning\\Lib\\site-packages\\neo4j\\_async_compat\\network\\_bolt_socket.py:532\u001b[0m, in \u001b[0;36mBoltSocket._connect\u001b[1;34m(cls, resolved_address, timeout, keep_alive)\u001b[0m\n\u001b[0;32m    531\u001b[0m     \u001b[39mcls\u001b[39m\u001b[39m.\u001b[39mclose_socket(s)\n\u001b[1;32m--> 532\u001b[0m     \u001b[39mraise\u001b[39;00m ServiceUnavailable(\n\u001b[0;32m    533\u001b[0m         \u001b[39m\"\u001b[39m\u001b[39mTimed out trying to establish connection to \u001b[39m\u001b[39m{!r}\u001b[39;00m\u001b[39m\"\u001b[39m\u001b[39m.\u001b[39mformat(\n\u001b[0;32m    534\u001b[0m             resolved_address))\n\u001b[0;32m    535\u001b[0m \u001b[39mexcept\u001b[39;00m \u001b[39mException\u001b[39;00m \u001b[39mas\u001b[39;00m error:\n",
      "\u001b[1;31mServiceUnavailable\u001b[0m: Timed out trying to establish connection to ResolvedIPv4Address(('44.200.7.27', 7687))",
      "\nThe above exception was the direct cause of the following exception:\n",
      "\u001b[1;31mServiceUnavailable\u001b[0m                        Traceback (most recent call last)",
      "File \u001b[1;32mc:\\Users\\FBNDRA96M\\AppData\\Local\\anaconda3\\envs\\graph_learning\\Lib\\site-packages\\langchain\\vectorstores\\neo4j_vector.py:166\u001b[0m, in \u001b[0;36mNeo4jVector.__init__\u001b[1;34m(self, embedding, search_type, username, password, url, keyword_index_name, database, index_name, node_label, embedding_node_property, text_node_property, distance_strategy, logger, pre_delete_collection, retrieval_query, relevance_score_fn)\u001b[0m\n\u001b[0;32m    165\u001b[0m \u001b[39mtry\u001b[39;00m:\n\u001b[1;32m--> 166\u001b[0m     \u001b[39mself\u001b[39;49m\u001b[39m.\u001b[39;49m_driver\u001b[39m.\u001b[39;49mverify_connectivity()\n\u001b[0;32m    167\u001b[0m \u001b[39mexcept\u001b[39;00m neo4j\u001b[39m.\u001b[39mexceptions\u001b[39m.\u001b[39mServiceUnavailable:\n",
      "File \u001b[1;32mc:\\Users\\FBNDRA96M\\AppData\\Local\\anaconda3\\envs\\graph_learning\\Lib\\site-packages\\neo4j\\_sync\\driver.py:974\u001b[0m, in \u001b[0;36mDriver.verify_connectivity\u001b[1;34m(self, **config)\u001b[0m\n\u001b[0;32m    973\u001b[0m session_config \u001b[39m=\u001b[39m \u001b[39mself\u001b[39m\u001b[39m.\u001b[39m_read_session_config(config)\n\u001b[1;32m--> 974\u001b[0m \u001b[39mself\u001b[39;49m\u001b[39m.\u001b[39;49m_get_server_info(session_config)\n",
      "File \u001b[1;32mc:\\Users\\FBNDRA96M\\AppData\\Local\\anaconda3\\envs\\graph_learning\\Lib\\site-packages\\neo4j\\_sync\\driver.py:1185\u001b[0m, in \u001b[0;36mDriver._get_server_info\u001b[1;34m(self, session_config)\u001b[0m\n\u001b[0;32m   1184\u001b[0m \u001b[39mwith\u001b[39;00m \u001b[39mself\u001b[39m\u001b[39m.\u001b[39m_session(session_config) \u001b[39mas\u001b[39;00m session:\n\u001b[1;32m-> 1185\u001b[0m     \u001b[39mreturn\u001b[39;00m session\u001b[39m.\u001b[39;49m_get_server_info()\n",
      "File \u001b[1;32mc:\\Users\\FBNDRA96M\\AppData\\Local\\anaconda3\\envs\\graph_learning\\Lib\\site-packages\\neo4j\\_sync\\work\\session.py:173\u001b[0m, in \u001b[0;36mSession._get_server_info\u001b[1;34m(self)\u001b[0m\n\u001b[0;32m    172\u001b[0m \u001b[39massert\u001b[39;00m \u001b[39mnot\u001b[39;00m \u001b[39mself\u001b[39m\u001b[39m.\u001b[39m_connection\n\u001b[1;32m--> 173\u001b[0m \u001b[39mself\u001b[39;49m\u001b[39m.\u001b[39;49m_connect(READ_ACCESS, liveness_check_timeout\u001b[39m=\u001b[39;49m\u001b[39m0\u001b[39;49m)\n\u001b[0;32m    174\u001b[0m server_info \u001b[39m=\u001b[39m \u001b[39mself\u001b[39m\u001b[39m.\u001b[39m_connection\u001b[39m.\u001b[39mserver_info\n",
      "File \u001b[1;32mc:\\Users\\FBNDRA96M\\AppData\\Local\\anaconda3\\envs\\graph_learning\\Lib\\site-packages\\neo4j\\_sync\\work\\session.py:131\u001b[0m, in \u001b[0;36mSession._connect\u001b[1;34m(self, access_mode, **acquire_kwargs)\u001b[0m\n\u001b[0;32m    130\u001b[0m \u001b[39mtry\u001b[39;00m:\n\u001b[1;32m--> 131\u001b[0m     \u001b[39msuper\u001b[39;49m()\u001b[39m.\u001b[39;49m_connect(\n\u001b[0;32m    132\u001b[0m         access_mode, auth\u001b[39m=\u001b[39;49m\u001b[39mself\u001b[39;49m\u001b[39m.\u001b[39;49m_config\u001b[39m.\u001b[39;49mauth, \u001b[39m*\u001b[39;49m\u001b[39m*\u001b[39;49macquire_kwargs\n\u001b[0;32m    133\u001b[0m     )\n\u001b[0;32m    134\u001b[0m \u001b[39mexcept\u001b[39;00m asyncio\u001b[39m.\u001b[39mCancelledError:\n",
      "File \u001b[1;32mc:\\Users\\FBNDRA96M\\AppData\\Local\\anaconda3\\envs\\graph_learning\\Lib\\site-packages\\neo4j\\_sync\\work\\workspace.py:178\u001b[0m, in \u001b[0;36mWorkspace._connect\u001b[1;34m(self, access_mode, auth, **acquire_kwargs)\u001b[0m\n\u001b[0;32m    177\u001b[0m acquire_kwargs_\u001b[39m.\u001b[39mupdate(acquire_kwargs)\n\u001b[1;32m--> 178\u001b[0m \u001b[39mself\u001b[39m\u001b[39m.\u001b[39m_connection \u001b[39m=\u001b[39m \u001b[39mself\u001b[39;49m\u001b[39m.\u001b[39;49m_pool\u001b[39m.\u001b[39;49macquire(\u001b[39m*\u001b[39;49m\u001b[39m*\u001b[39;49macquire_kwargs_)\n\u001b[0;32m    179\u001b[0m \u001b[39mself\u001b[39m\u001b[39m.\u001b[39m_connection_access_mode \u001b[39m=\u001b[39m access_mode\n",
      "File \u001b[1;32mc:\\Users\\FBNDRA96M\\AppData\\Local\\anaconda3\\envs\\graph_learning\\Lib\\site-packages\\neo4j\\_sync\\io\\_pool.py:528\u001b[0m, in \u001b[0;36mBoltPool.acquire\u001b[1;34m(self, access_mode, timeout, database, bookmarks, auth, liveness_check_timeout)\u001b[0m\n\u001b[0;32m    527\u001b[0m deadline \u001b[39m=\u001b[39m Deadline\u001b[39m.\u001b[39mfrom_timeout_or_deadline(timeout)\n\u001b[1;32m--> 528\u001b[0m \u001b[39mreturn\u001b[39;00m \u001b[39mself\u001b[39;49m\u001b[39m.\u001b[39;49m_acquire(\n\u001b[0;32m    529\u001b[0m     \u001b[39mself\u001b[39;49m\u001b[39m.\u001b[39;49maddress, auth, deadline, liveness_check_timeout\n\u001b[0;32m    530\u001b[0m )\n",
      "File \u001b[1;32mc:\\Users\\FBNDRA96M\\AppData\\Local\\anaconda3\\envs\\graph_learning\\Lib\\site-packages\\neo4j\\_sync\\io\\_pool.py:315\u001b[0m, in \u001b[0;36mIOPool._acquire\u001b[1;34m(self, address, auth, deadline, liveness_check_timeout)\u001b[0m\n\u001b[0;32m    314\u001b[0m log\u001b[39m.\u001b[39mdebug(\u001b[39m\"\u001b[39m\u001b[39m[#0000]  _: <POOL> trying to hand out new connection\u001b[39m\u001b[39m\"\u001b[39m)\n\u001b[1;32m--> 315\u001b[0m \u001b[39mreturn\u001b[39;00m connection_creator()\n",
      "File \u001b[1;32mc:\\Users\\FBNDRA96M\\AppData\\Local\\anaconda3\\envs\\graph_learning\\Lib\\site-packages\\neo4j\\_sync\\io\\_pool.py:167\u001b[0m, in \u001b[0;36mIOPool._acquire_new_later.<locals>.connection_creator\u001b[1;34m()\u001b[0m\n\u001b[0;32m    166\u001b[0m \u001b[39mtry\u001b[39;00m:\n\u001b[1;32m--> 167\u001b[0m     connection \u001b[39m=\u001b[39m \u001b[39mself\u001b[39;49m\u001b[39m.\u001b[39;49mopener(\n\u001b[0;32m    168\u001b[0m         address, auth \u001b[39mor\u001b[39;49;00m \u001b[39mself\u001b[39;49m\u001b[39m.\u001b[39;49mpool_config\u001b[39m.\u001b[39;49mauth, deadline\n\u001b[0;32m    169\u001b[0m     )\n\u001b[0;32m    170\u001b[0m \u001b[39mexcept\u001b[39;00m ServiceUnavailable:\n",
      "File \u001b[1;32mc:\\Users\\FBNDRA96M\\AppData\\Local\\anaconda3\\envs\\graph_learning\\Lib\\site-packages\\neo4j\\_sync\\io\\_pool.py:502\u001b[0m, in \u001b[0;36mBoltPool.open.<locals>.opener\u001b[1;34m(addr, auth_manager, deadline)\u001b[0m\n\u001b[0;32m    501\u001b[0m \u001b[39mdef\u001b[39;00m \u001b[39mopener\u001b[39m(addr, auth_manager, deadline):\n\u001b[1;32m--> 502\u001b[0m     \u001b[39mreturn\u001b[39;00m Bolt\u001b[39m.\u001b[39;49mopen(\n\u001b[0;32m    503\u001b[0m         addr, auth_manager\u001b[39m=\u001b[39;49mauth_manager, deadline\u001b[39m=\u001b[39;49mdeadline,\n\u001b[0;32m    504\u001b[0m         routing_context\u001b[39m=\u001b[39;49m\u001b[39mNone\u001b[39;49;00m, pool_config\u001b[39m=\u001b[39;49mpool_config\n\u001b[0;32m    505\u001b[0m     )\n",
      "File \u001b[1;32mc:\\Users\\FBNDRA96M\\AppData\\Local\\anaconda3\\envs\\graph_learning\\Lib\\site-packages\\neo4j\\_sync\\io\\_bolt.py:402\u001b[0m, in \u001b[0;36mBolt.open\u001b[1;34m(cls, address, auth_manager, deadline, routing_context, pool_config)\u001b[0m\n\u001b[0;32m    399\u001b[0m     deadline \u001b[39m=\u001b[39m Deadline(\u001b[39mNone\u001b[39;00m)\n\u001b[0;32m    401\u001b[0m s, protocol_version, handshake, data \u001b[39m=\u001b[39m \\\n\u001b[1;32m--> 402\u001b[0m     BoltSocket\u001b[39m.\u001b[39;49mconnect(\n\u001b[0;32m    403\u001b[0m         address,\n\u001b[0;32m    404\u001b[0m         tcp_timeout\u001b[39m=\u001b[39;49mpool_config\u001b[39m.\u001b[39;49mconnection_timeout,\n\u001b[0;32m    405\u001b[0m         deadline\u001b[39m=\u001b[39;49mdeadline,\n\u001b[0;32m    406\u001b[0m         custom_resolver\u001b[39m=\u001b[39;49mpool_config\u001b[39m.\u001b[39;49mresolver,\n\u001b[0;32m    407\u001b[0m         ssl_context\u001b[39m=\u001b[39;49mpool_config\u001b[39m.\u001b[39;49mget_ssl_context(),\n\u001b[0;32m    408\u001b[0m         keep_alive\u001b[39m=\u001b[39;49mpool_config\u001b[39m.\u001b[39;49mkeep_alive,\n\u001b[0;32m    409\u001b[0m     )\n\u001b[0;32m    411\u001b[0m pool_config\u001b[39m.\u001b[39mprotocol_version \u001b[39m=\u001b[39m protocol_version\n",
      "File \u001b[1;32mc:\\Users\\FBNDRA96M\\AppData\\Local\\anaconda3\\envs\\graph_learning\\Lib\\site-packages\\neo4j\\_async_compat\\network\\_bolt_socket.py:709\u001b[0m, in \u001b[0;36mBoltSocket.connect\u001b[1;34m(cls, address, tcp_timeout, deadline, custom_resolver, ssl_context, keep_alive)\u001b[0m\n\u001b[0;32m    708\u001b[0m \u001b[39melse\u001b[39;00m:\n\u001b[1;32m--> 709\u001b[0m     \u001b[39mraise\u001b[39;00m ServiceUnavailable(\n\u001b[0;32m    710\u001b[0m         \u001b[39m\"\u001b[39m\u001b[39mCouldn\u001b[39m\u001b[39m'\u001b[39m\u001b[39mt connect to \u001b[39m\u001b[39m%s\u001b[39;00m\u001b[39m (resolved to \u001b[39m\u001b[39m%s\u001b[39;00m\u001b[39m):\u001b[39m\u001b[39m\\n\u001b[39;00m\u001b[39m%s\u001b[39;00m\u001b[39m\"\u001b[39m \u001b[39m%\u001b[39m (\n\u001b[0;32m    711\u001b[0m             \u001b[39mstr\u001b[39m(address), \u001b[39mtuple\u001b[39m(\u001b[39mmap\u001b[39m(\u001b[39mstr\u001b[39m, resolved_addresses)),\n\u001b[0;32m    712\u001b[0m             \u001b[39m\"\u001b[39m\u001b[39m\\n\u001b[39;00m\u001b[39m\"\u001b[39m\u001b[39m.\u001b[39mjoin(\u001b[39mmap\u001b[39m(\u001b[39mstr\u001b[39m, errors))\n\u001b[0;32m    713\u001b[0m         )\n\u001b[0;32m    714\u001b[0m     ) \u001b[39mfrom\u001b[39;00m \u001b[39merrors\u001b[39;00m[\u001b[39m0\u001b[39m]\n",
      "\u001b[1;31mServiceUnavailable\u001b[0m: Couldn't connect to 44.200.7.27:7687 (resolved to ()):\nTimed out trying to establish connection to ResolvedIPv4Address(('44.200.7.27', 7687))",
      "\nDuring handling of the above exception, another exception occurred:\n",
      "\u001b[1;31mValueError\u001b[0m                                Traceback (most recent call last)",
      "\u001b[1;32mc:\\Users\\FBNDRA96M\\OneDrive - DEDAGROUP SPA\\Progetti\\DedaGPT\\Neo4j Chatbot\\llm-chatbot-python\\prova.ipynb Cell 12\u001b[0m line \u001b[0;36m3\n\u001b[0;32m     <a href='vscode-notebook-cell:/c%3A/Users/FBNDRA96M/OneDrive%20-%20DEDAGROUP%20SPA/Progetti/DedaGPT/Neo4j%20Chatbot/llm-chatbot-python/prova.ipynb#X15sZmlsZQ%3D%3D?line=30'>31</a>\u001b[0m chat_chain \u001b[39m=\u001b[39m LLMChain(llm\u001b[39m=\u001b[39mllm, prompt\u001b[39m=\u001b[39mprompt, memory\u001b[39m=\u001b[39mmemory, verbose\u001b[39m=\u001b[39m\u001b[39mTrue\u001b[39;00m)\n\u001b[0;32m     <a href='vscode-notebook-cell:/c%3A/Users/FBNDRA96M/OneDrive%20-%20DEDAGROUP%20SPA/Progetti/DedaGPT/Neo4j%20Chatbot/llm-chatbot-python/prova.ipynb#X15sZmlsZQ%3D%3D?line=32'>33</a>\u001b[0m embedding_provider \u001b[39m=\u001b[39m OpenAIEmbeddings(openai_api_key\u001b[39m=\u001b[39mOPENAI_API_KEY)\n\u001b[1;32m---> <a href='vscode-notebook-cell:/c%3A/Users/FBNDRA96M/OneDrive%20-%20DEDAGROUP%20SPA/Progetti/DedaGPT/Neo4j%20Chatbot/llm-chatbot-python/prova.ipynb#X15sZmlsZQ%3D%3D?line=34'>35</a>\u001b[0m movie_plot_vector \u001b[39m=\u001b[39m Neo4jVector\u001b[39m.\u001b[39;49mfrom_existing_index(\n\u001b[0;32m     <a href='vscode-notebook-cell:/c%3A/Users/FBNDRA96M/OneDrive%20-%20DEDAGROUP%20SPA/Progetti/DedaGPT/Neo4j%20Chatbot/llm-chatbot-python/prova.ipynb#X15sZmlsZQ%3D%3D?line=35'>36</a>\u001b[0m     embedding_provider,\n\u001b[0;32m     <a href='vscode-notebook-cell:/c%3A/Users/FBNDRA96M/OneDrive%20-%20DEDAGROUP%20SPA/Progetti/DedaGPT/Neo4j%20Chatbot/llm-chatbot-python/prova.ipynb#X15sZmlsZQ%3D%3D?line=36'>37</a>\u001b[0m     url\u001b[39m=\u001b[39;49m\u001b[39m\"\u001b[39;49m\u001b[39mbolt://3.93.219.226:7687\u001b[39;49m\u001b[39m\"\u001b[39;49m,\n\u001b[0;32m     <a href='vscode-notebook-cell:/c%3A/Users/FBNDRA96M/OneDrive%20-%20DEDAGROUP%20SPA/Progetti/DedaGPT/Neo4j%20Chatbot/llm-chatbot-python/prova.ipynb#X15sZmlsZQ%3D%3D?line=37'>38</a>\u001b[0m     username\u001b[39m=\u001b[39;49m\u001b[39m\"\u001b[39;49m\u001b[39mneo4j\u001b[39;49m\u001b[39m\"\u001b[39;49m,\n\u001b[0;32m     <a href='vscode-notebook-cell:/c%3A/Users/FBNDRA96M/OneDrive%20-%20DEDAGROUP%20SPA/Progetti/DedaGPT/Neo4j%20Chatbot/llm-chatbot-python/prova.ipynb#X15sZmlsZQ%3D%3D?line=38'>39</a>\u001b[0m     password\u001b[39m=\u001b[39;49m\u001b[39m\"\u001b[39;49m\u001b[39mticks-sex-fields\u001b[39;49m\u001b[39m\"\u001b[39;49m,\n\u001b[0;32m     <a href='vscode-notebook-cell:/c%3A/Users/FBNDRA96M/OneDrive%20-%20DEDAGROUP%20SPA/Progetti/DedaGPT/Neo4j%20Chatbot/llm-chatbot-python/prova.ipynb#X15sZmlsZQ%3D%3D?line=39'>40</a>\u001b[0m     index_name\u001b[39m=\u001b[39;49m\u001b[39m\"\u001b[39;49m\u001b[39mmoviePlots\u001b[39;49m\u001b[39m\"\u001b[39;49m,\n\u001b[0;32m     <a href='vscode-notebook-cell:/c%3A/Users/FBNDRA96M/OneDrive%20-%20DEDAGROUP%20SPA/Progetti/DedaGPT/Neo4j%20Chatbot/llm-chatbot-python/prova.ipynb#X15sZmlsZQ%3D%3D?line=40'>41</a>\u001b[0m     embedding_node_property\u001b[39m=\u001b[39;49m\u001b[39m\"\u001b[39;49m\u001b[39membedding\u001b[39;49m\u001b[39m\"\u001b[39;49m,\n\u001b[0;32m     <a href='vscode-notebook-cell:/c%3A/Users/FBNDRA96M/OneDrive%20-%20DEDAGROUP%20SPA/Progetti/DedaGPT/Neo4j%20Chatbot/llm-chatbot-python/prova.ipynb#X15sZmlsZQ%3D%3D?line=41'>42</a>\u001b[0m     text_node_property\u001b[39m=\u001b[39;49m\u001b[39m\"\u001b[39;49m\u001b[39mplot\u001b[39;49m\u001b[39m\"\u001b[39;49m,\n\u001b[0;32m     <a href='vscode-notebook-cell:/c%3A/Users/FBNDRA96M/OneDrive%20-%20DEDAGROUP%20SPA/Progetti/DedaGPT/Neo4j%20Chatbot/llm-chatbot-python/prova.ipynb#X15sZmlsZQ%3D%3D?line=42'>43</a>\u001b[0m )\n\u001b[0;32m     <a href='vscode-notebook-cell:/c%3A/Users/FBNDRA96M/OneDrive%20-%20DEDAGROUP%20SPA/Progetti/DedaGPT/Neo4j%20Chatbot/llm-chatbot-python/prova.ipynb#X15sZmlsZQ%3D%3D?line=44'>45</a>\u001b[0m retrievalQA \u001b[39m=\u001b[39m RetrievalQA\u001b[39m.\u001b[39mfrom_llm(\n\u001b[0;32m     <a href='vscode-notebook-cell:/c%3A/Users/FBNDRA96M/OneDrive%20-%20DEDAGROUP%20SPA/Progetti/DedaGPT/Neo4j%20Chatbot/llm-chatbot-python/prova.ipynb#X15sZmlsZQ%3D%3D?line=45'>46</a>\u001b[0m     llm\u001b[39m=\u001b[39mllm,\n\u001b[0;32m     <a href='vscode-notebook-cell:/c%3A/Users/FBNDRA96M/OneDrive%20-%20DEDAGROUP%20SPA/Progetti/DedaGPT/Neo4j%20Chatbot/llm-chatbot-python/prova.ipynb#X15sZmlsZQ%3D%3D?line=46'>47</a>\u001b[0m     retriever\u001b[39m=\u001b[39mmovie_plot_vector\u001b[39m.\u001b[39mas_retriever(),\n\u001b[0;32m     <a href='vscode-notebook-cell:/c%3A/Users/FBNDRA96M/OneDrive%20-%20DEDAGROUP%20SPA/Progetti/DedaGPT/Neo4j%20Chatbot/llm-chatbot-python/prova.ipynb#X15sZmlsZQ%3D%3D?line=47'>48</a>\u001b[0m     verbose\u001b[39m=\u001b[39m\u001b[39mTrue\u001b[39;00m,\n\u001b[0;32m     <a href='vscode-notebook-cell:/c%3A/Users/FBNDRA96M/OneDrive%20-%20DEDAGROUP%20SPA/Progetti/DedaGPT/Neo4j%20Chatbot/llm-chatbot-python/prova.ipynb#X15sZmlsZQ%3D%3D?line=48'>49</a>\u001b[0m     return_source_documents\u001b[39m=\u001b[39m\u001b[39mTrue\u001b[39;00m\n\u001b[0;32m     <a href='vscode-notebook-cell:/c%3A/Users/FBNDRA96M/OneDrive%20-%20DEDAGROUP%20SPA/Progetti/DedaGPT/Neo4j%20Chatbot/llm-chatbot-python/prova.ipynb#X15sZmlsZQ%3D%3D?line=49'>50</a>\u001b[0m )\n\u001b[0;32m     <a href='vscode-notebook-cell:/c%3A/Users/FBNDRA96M/OneDrive%20-%20DEDAGROUP%20SPA/Progetti/DedaGPT/Neo4j%20Chatbot/llm-chatbot-python/prova.ipynb#X15sZmlsZQ%3D%3D?line=51'>52</a>\u001b[0m \u001b[39mdef\u001b[39;00m \u001b[39mrun_retriever\u001b[39m(query):\n",
      "File \u001b[1;32mc:\\Users\\FBNDRA96M\\AppData\\Local\\anaconda3\\envs\\graph_learning\\Lib\\site-packages\\langchain\\vectorstores\\neo4j_vector.py:724\u001b[0m, in \u001b[0;36mNeo4jVector.from_existing_index\u001b[1;34m(cls, embedding, index_name, search_type, keyword_index_name, **kwargs)\u001b[0m\n\u001b[0;32m    718\u001b[0m \u001b[39mif\u001b[39;00m search_type \u001b[39m==\u001b[39m SearchType\u001b[39m.\u001b[39mHYBRID \u001b[39mand\u001b[39;00m \u001b[39mnot\u001b[39;00m keyword_index_name:\n\u001b[0;32m    719\u001b[0m     \u001b[39mraise\u001b[39;00m \u001b[39mValueError\u001b[39;00m(\n\u001b[0;32m    720\u001b[0m         \u001b[39m\"\u001b[39m\u001b[39mkeyword_index name has to be specified \u001b[39m\u001b[39m\"\u001b[39m\n\u001b[0;32m    721\u001b[0m         \u001b[39m\"\u001b[39m\u001b[39mwhen using hybrid search option\u001b[39m\u001b[39m\"\u001b[39m\n\u001b[0;32m    722\u001b[0m     )\n\u001b[1;32m--> 724\u001b[0m store \u001b[39m=\u001b[39m \u001b[39mcls\u001b[39;49m(\n\u001b[0;32m    725\u001b[0m     embedding\u001b[39m=\u001b[39;49membedding,\n\u001b[0;32m    726\u001b[0m     index_name\u001b[39m=\u001b[39;49mindex_name,\n\u001b[0;32m    727\u001b[0m     keyword_index_name\u001b[39m=\u001b[39;49mkeyword_index_name,\n\u001b[0;32m    728\u001b[0m     search_type\u001b[39m=\u001b[39;49msearch_type,\n\u001b[0;32m    729\u001b[0m     \u001b[39m*\u001b[39;49m\u001b[39m*\u001b[39;49mkwargs,\n\u001b[0;32m    730\u001b[0m )\n\u001b[0;32m    732\u001b[0m embedding_dimension \u001b[39m=\u001b[39m store\u001b[39m.\u001b[39mretrieve_existing_index()\n\u001b[0;32m    734\u001b[0m \u001b[39mif\u001b[39;00m \u001b[39mnot\u001b[39;00m embedding_dimension:\n",
      "File \u001b[1;32mc:\\Users\\FBNDRA96M\\AppData\\Local\\anaconda3\\envs\\graph_learning\\Lib\\site-packages\\langchain\\vectorstores\\neo4j_vector.py:168\u001b[0m, in \u001b[0;36mNeo4jVector.__init__\u001b[1;34m(self, embedding, search_type, username, password, url, keyword_index_name, database, index_name, node_label, embedding_node_property, text_node_property, distance_strategy, logger, pre_delete_collection, retrieval_query, relevance_score_fn)\u001b[0m\n\u001b[0;32m    166\u001b[0m     \u001b[39mself\u001b[39m\u001b[39m.\u001b[39m_driver\u001b[39m.\u001b[39mverify_connectivity()\n\u001b[0;32m    167\u001b[0m \u001b[39mexcept\u001b[39;00m neo4j\u001b[39m.\u001b[39mexceptions\u001b[39m.\u001b[39mServiceUnavailable:\n\u001b[1;32m--> 168\u001b[0m     \u001b[39mraise\u001b[39;00m \u001b[39mValueError\u001b[39;00m(\n\u001b[0;32m    169\u001b[0m         \u001b[39m\"\u001b[39m\u001b[39mCould not connect to Neo4j database. \u001b[39m\u001b[39m\"\u001b[39m\n\u001b[0;32m    170\u001b[0m         \u001b[39m\"\u001b[39m\u001b[39mPlease ensure that the url is correct\u001b[39m\u001b[39m\"\u001b[39m\n\u001b[0;32m    171\u001b[0m     )\n\u001b[0;32m    172\u001b[0m \u001b[39mexcept\u001b[39;00m neo4j\u001b[39m.\u001b[39mexceptions\u001b[39m.\u001b[39mAuthError:\n\u001b[0;32m    173\u001b[0m     \u001b[39mraise\u001b[39;00m \u001b[39mValueError\u001b[39;00m(\n\u001b[0;32m    174\u001b[0m         \u001b[39m\"\u001b[39m\u001b[39mCould not connect to Neo4j database. \u001b[39m\u001b[39m\"\u001b[39m\n\u001b[0;32m    175\u001b[0m         \u001b[39m\"\u001b[39m\u001b[39mPlease ensure that the username and password are correct\u001b[39m\u001b[39m\"\u001b[39m\n\u001b[0;32m    176\u001b[0m     )\n",
      "\u001b[1;31mValueError\u001b[0m: Could not connect to Neo4j database. Please ensure that the url is correct"
     ]
    }
   ],
   "source": [
    "from langchain.prompts import PromptTemplate\n",
    "from langchain.chat_models import ChatOpenAI\n",
    "from langchain.chains import LLMChain, RetrievalQA\n",
    "from langchain.chains.conversation.memory import ConversationBufferMemory\n",
    "from langchain.agents import AgentType, initialize_agent\n",
    "from langchain.tools import Tool, YouTubeSearchTool\n",
    "from langchain.embeddings.openai import OpenAIEmbeddings\n",
    "from langchain.vectorstores.neo4j_vector import Neo4jVector\n",
    "import streamlit as st\n",
    "\n",
    "OPENAI_API_KEY = st.secrets[\"OPENAI_API_KEY\"]\n",
    "\n",
    "llm = ChatOpenAI(\n",
    "    openai_api_key=OPENAI_API_KEY\n",
    ")\n",
    "\n",
    "youtube = YouTubeSearchTool()\n",
    "\n",
    "memory = ConversationBufferMemory(memory_key=\"chat_history\", return_messages=True)\n",
    "\n",
    "prompt = PromptTemplate(\n",
    "    template=\"\"\"\n",
    "    You are a movie expert. You find movies from a genre or plot.\n",
    "\n",
    "    ChatHistory:{chat_history}\n",
    "    Question:{input}\n",
    "    \"\"\",\n",
    "    input_variables=[\"chat_history\", \"input\"]\n",
    "    )\n",
    "\n",
    "chat_chain = LLMChain(llm=llm, prompt=prompt, memory=memory, verbose=True)\n",
    "\n",
    "embedding_provider = OpenAIEmbeddings(openai_api_key=OPENAI_API_KEY)\n",
    "\n",
    "movie_plot_vector = Neo4jVector.from_existing_index(\n",
    "    embedding_provider,\n",
    "    url=\"bolt://3.93.219.226:7687\",\n",
    "    username=\"neo4j\",\n",
    "    password=\"ticks-sex-fields\",\n",
    "    index_name=\"moviePlots\",\n",
    "    embedding_node_property=\"embedding\",\n",
    "    text_node_property=\"plot\",\n",
    ")\n",
    "\n",
    "retrievalQA = RetrievalQA.from_llm(\n",
    "    llm=llm,\n",
    "    retriever=movie_plot_vector.as_retriever(),\n",
    "    verbose=True,\n",
    "    return_source_documents=True\n",
    ")\n",
    "\n",
    "def run_retriever(query):\n",
    "    results = retrievalQA({\"query\":query})\n",
    "    return str(results)\n",
    "\n",
    "tools = [\n",
    "    Tool.from_function(\n",
    "        name=\"ChatOpenAI\",\n",
    "        description=\"For when you need to chat about movies, genres or plots. The question will be a string. Return a string.\",\n",
    "        func=chat_chain.run,\n",
    "        return_direct=True\n",
    "    ),\n",
    "    Tool.from_function(\n",
    "        name=\"YouTubeSearchTool\",\n",
    "        description=\"For when you need a link to a movie trailer. The question will be a string. Return a link to a YouTube video.\",\n",
    "        func=youtube.run,\n",
    "        return_direct=True\n",
    "    ),\n",
    "    Tool.from_function(\n",
    "        name=\"PlotRetrieval\",\n",
    "        description=\"For when you need to compare a plot to a movie. The question will be a string. Return a string.\",\n",
    "        func=run_retriever,\n",
    "        return_direct=True\n",
    "    )\n",
    "]\n",
    "\n",
    "agent = initialize_agent(\n",
    "    tools, llm, memory=memory,\n",
    "    agent=AgentType.CHAT_CONVERSATIONAL_REACT_DESCRIPTION,\n",
    "    verbose=True,\n",
    "    handle_parsing_errors=True,\n",
    ")\n",
    "\n",
    "while True:\n",
    "    q = input(\">\")\n",
    "    print(agent.run(q))"
   ]
  },
  {
   "cell_type": "markdown",
   "metadata": {},
   "source": [
    "When the program runs, the RetrievalQA chain will use the movie_plot_vector retriever to retrieve documents from the moviePlots index and pass them to the chat_llm language model."
   ]
  },
  {
   "cell_type": "markdown",
   "metadata": {},
   "source": [
    "## GraphCypherQAChain "
   ]
  },
  {
   "cell_type": "code",
   "execution_count": null,
   "metadata": {},
   "outputs": [],
   "source": [
    "st.secrets[\"OPENAI_API_KEY\"]"
   ]
  },
  {
   "cell_type": "code",
   "execution_count": 18,
   "metadata": {},
   "outputs": [
    {
     "ename": "ValueError",
     "evalue": "Could not connect to Neo4j database. Please ensure that the url is correct",
     "output_type": "error",
     "traceback": [
      "\u001b[1;31m---------------------------------------------------------------------------\u001b[0m",
      "\u001b[1;31mTimeoutError\u001b[0m                              Traceback (most recent call last)",
      "File \u001b[1;32mc:\\Users\\FBNDRA96M\\AppData\\Local\\anaconda3\\envs\\graph_learning\\Lib\\site-packages\\neo4j\\_async_compat\\network\\_bolt_socket.py:523\u001b[0m, in \u001b[0;36mBoltSocket._connect\u001b[1;34m(cls, resolved_address, timeout, keep_alive)\u001b[0m\n\u001b[0;32m    522\u001b[0m log\u001b[39m.\u001b[39mdebug(\u001b[39m\"\u001b[39m\u001b[39m[#0000]  C: <OPEN> \u001b[39m\u001b[39m%s\u001b[39;00m\u001b[39m\"\u001b[39m, resolved_address)\n\u001b[1;32m--> 523\u001b[0m s\u001b[39m.\u001b[39mconnect(resolved_address)\n\u001b[0;32m    524\u001b[0m s\u001b[39m.\u001b[39msettimeout(t)\n",
      "\u001b[1;31mTimeoutError\u001b[0m: [WinError 10060] Impossibile stabilire la connessione. Risposta non corretta della parte connessa dopo l'intervallo di tempo oppure mancata risposta dall'host collegato",
      "\nDuring handling of the above exception, another exception occurred:\n",
      "\u001b[1;31mServiceUnavailable\u001b[0m                        Traceback (most recent call last)",
      "File \u001b[1;32mc:\\Users\\FBNDRA96M\\AppData\\Local\\anaconda3\\envs\\graph_learning\\Lib\\site-packages\\neo4j\\_async_compat\\network\\_bolt_socket.py:681\u001b[0m, in \u001b[0;36mBoltSocket.connect\u001b[1;34m(cls, address, tcp_timeout, deadline, custom_resolver, ssl_context, keep_alive)\u001b[0m\n\u001b[0;32m    680\u001b[0m \u001b[39mtry\u001b[39;00m:\n\u001b[1;32m--> 681\u001b[0m     s \u001b[39m=\u001b[39m BoltSocket\u001b[39m.\u001b[39;49m_connect(resolved_address, tcp_timeout,\n\u001b[0;32m    682\u001b[0m                             keep_alive)\n\u001b[0;32m    683\u001b[0m     s \u001b[39m=\u001b[39m BoltSocket\u001b[39m.\u001b[39m_secure(s, resolved_address\u001b[39m.\u001b[39m_host_name,\n\u001b[0;32m    684\u001b[0m                            ssl_context)\n",
      "File \u001b[1;32mc:\\Users\\FBNDRA96M\\AppData\\Local\\anaconda3\\envs\\graph_learning\\Lib\\site-packages\\neo4j\\_async_compat\\network\\_bolt_socket.py:532\u001b[0m, in \u001b[0;36mBoltSocket._connect\u001b[1;34m(cls, resolved_address, timeout, keep_alive)\u001b[0m\n\u001b[0;32m    531\u001b[0m     \u001b[39mcls\u001b[39m\u001b[39m.\u001b[39mclose_socket(s)\n\u001b[1;32m--> 532\u001b[0m     \u001b[39mraise\u001b[39;00m ServiceUnavailable(\n\u001b[0;32m    533\u001b[0m         \u001b[39m\"\u001b[39m\u001b[39mTimed out trying to establish connection to \u001b[39m\u001b[39m{!r}\u001b[39;00m\u001b[39m\"\u001b[39m\u001b[39m.\u001b[39mformat(\n\u001b[0;32m    534\u001b[0m             resolved_address))\n\u001b[0;32m    535\u001b[0m \u001b[39mexcept\u001b[39;00m \u001b[39mException\u001b[39;00m \u001b[39mas\u001b[39;00m error:\n",
      "\u001b[1;31mServiceUnavailable\u001b[0m: Timed out trying to establish connection to ResolvedIPv4Address(('44.200.7.27', 7687))",
      "\nThe above exception was the direct cause of the following exception:\n",
      "\u001b[1;31mServiceUnavailable\u001b[0m                        Traceback (most recent call last)",
      "File \u001b[1;32mc:\\Users\\FBNDRA96M\\AppData\\Local\\anaconda3\\envs\\graph_learning\\Lib\\site-packages\\langchain\\graphs\\neo4j_graph.py:75\u001b[0m, in \u001b[0;36mNeo4jGraph.__init__\u001b[1;34m(self, url, username, password, database)\u001b[0m\n\u001b[0;32m     74\u001b[0m \u001b[39mtry\u001b[39;00m:\n\u001b[1;32m---> 75\u001b[0m     \u001b[39mself\u001b[39;49m\u001b[39m.\u001b[39;49m_driver\u001b[39m.\u001b[39;49mverify_connectivity()\n\u001b[0;32m     76\u001b[0m \u001b[39mexcept\u001b[39;00m neo4j\u001b[39m.\u001b[39mexceptions\u001b[39m.\u001b[39mServiceUnavailable:\n",
      "File \u001b[1;32mc:\\Users\\FBNDRA96M\\AppData\\Local\\anaconda3\\envs\\graph_learning\\Lib\\site-packages\\neo4j\\_sync\\driver.py:974\u001b[0m, in \u001b[0;36mDriver.verify_connectivity\u001b[1;34m(self, **config)\u001b[0m\n\u001b[0;32m    973\u001b[0m session_config \u001b[39m=\u001b[39m \u001b[39mself\u001b[39m\u001b[39m.\u001b[39m_read_session_config(config)\n\u001b[1;32m--> 974\u001b[0m \u001b[39mself\u001b[39;49m\u001b[39m.\u001b[39;49m_get_server_info(session_config)\n",
      "File \u001b[1;32mc:\\Users\\FBNDRA96M\\AppData\\Local\\anaconda3\\envs\\graph_learning\\Lib\\site-packages\\neo4j\\_sync\\driver.py:1185\u001b[0m, in \u001b[0;36mDriver._get_server_info\u001b[1;34m(self, session_config)\u001b[0m\n\u001b[0;32m   1184\u001b[0m \u001b[39mwith\u001b[39;00m \u001b[39mself\u001b[39m\u001b[39m.\u001b[39m_session(session_config) \u001b[39mas\u001b[39;00m session:\n\u001b[1;32m-> 1185\u001b[0m     \u001b[39mreturn\u001b[39;00m session\u001b[39m.\u001b[39;49m_get_server_info()\n",
      "File \u001b[1;32mc:\\Users\\FBNDRA96M\\AppData\\Local\\anaconda3\\envs\\graph_learning\\Lib\\site-packages\\neo4j\\_sync\\work\\session.py:173\u001b[0m, in \u001b[0;36mSession._get_server_info\u001b[1;34m(self)\u001b[0m\n\u001b[0;32m    172\u001b[0m \u001b[39massert\u001b[39;00m \u001b[39mnot\u001b[39;00m \u001b[39mself\u001b[39m\u001b[39m.\u001b[39m_connection\n\u001b[1;32m--> 173\u001b[0m \u001b[39mself\u001b[39;49m\u001b[39m.\u001b[39;49m_connect(READ_ACCESS, liveness_check_timeout\u001b[39m=\u001b[39;49m\u001b[39m0\u001b[39;49m)\n\u001b[0;32m    174\u001b[0m server_info \u001b[39m=\u001b[39m \u001b[39mself\u001b[39m\u001b[39m.\u001b[39m_connection\u001b[39m.\u001b[39mserver_info\n",
      "File \u001b[1;32mc:\\Users\\FBNDRA96M\\AppData\\Local\\anaconda3\\envs\\graph_learning\\Lib\\site-packages\\neo4j\\_sync\\work\\session.py:131\u001b[0m, in \u001b[0;36mSession._connect\u001b[1;34m(self, access_mode, **acquire_kwargs)\u001b[0m\n\u001b[0;32m    130\u001b[0m \u001b[39mtry\u001b[39;00m:\n\u001b[1;32m--> 131\u001b[0m     \u001b[39msuper\u001b[39;49m()\u001b[39m.\u001b[39;49m_connect(\n\u001b[0;32m    132\u001b[0m         access_mode, auth\u001b[39m=\u001b[39;49m\u001b[39mself\u001b[39;49m\u001b[39m.\u001b[39;49m_config\u001b[39m.\u001b[39;49mauth, \u001b[39m*\u001b[39;49m\u001b[39m*\u001b[39;49macquire_kwargs\n\u001b[0;32m    133\u001b[0m     )\n\u001b[0;32m    134\u001b[0m \u001b[39mexcept\u001b[39;00m asyncio\u001b[39m.\u001b[39mCancelledError:\n",
      "File \u001b[1;32mc:\\Users\\FBNDRA96M\\AppData\\Local\\anaconda3\\envs\\graph_learning\\Lib\\site-packages\\neo4j\\_sync\\work\\workspace.py:178\u001b[0m, in \u001b[0;36mWorkspace._connect\u001b[1;34m(self, access_mode, auth, **acquire_kwargs)\u001b[0m\n\u001b[0;32m    177\u001b[0m acquire_kwargs_\u001b[39m.\u001b[39mupdate(acquire_kwargs)\n\u001b[1;32m--> 178\u001b[0m \u001b[39mself\u001b[39m\u001b[39m.\u001b[39m_connection \u001b[39m=\u001b[39m \u001b[39mself\u001b[39;49m\u001b[39m.\u001b[39;49m_pool\u001b[39m.\u001b[39;49macquire(\u001b[39m*\u001b[39;49m\u001b[39m*\u001b[39;49macquire_kwargs_)\n\u001b[0;32m    179\u001b[0m \u001b[39mself\u001b[39m\u001b[39m.\u001b[39m_connection_access_mode \u001b[39m=\u001b[39m access_mode\n",
      "File \u001b[1;32mc:\\Users\\FBNDRA96M\\AppData\\Local\\anaconda3\\envs\\graph_learning\\Lib\\site-packages\\neo4j\\_sync\\io\\_pool.py:528\u001b[0m, in \u001b[0;36mBoltPool.acquire\u001b[1;34m(self, access_mode, timeout, database, bookmarks, auth, liveness_check_timeout)\u001b[0m\n\u001b[0;32m    527\u001b[0m deadline \u001b[39m=\u001b[39m Deadline\u001b[39m.\u001b[39mfrom_timeout_or_deadline(timeout)\n\u001b[1;32m--> 528\u001b[0m \u001b[39mreturn\u001b[39;00m \u001b[39mself\u001b[39;49m\u001b[39m.\u001b[39;49m_acquire(\n\u001b[0;32m    529\u001b[0m     \u001b[39mself\u001b[39;49m\u001b[39m.\u001b[39;49maddress, auth, deadline, liveness_check_timeout\n\u001b[0;32m    530\u001b[0m )\n",
      "File \u001b[1;32mc:\\Users\\FBNDRA96M\\AppData\\Local\\anaconda3\\envs\\graph_learning\\Lib\\site-packages\\neo4j\\_sync\\io\\_pool.py:315\u001b[0m, in \u001b[0;36mIOPool._acquire\u001b[1;34m(self, address, auth, deadline, liveness_check_timeout)\u001b[0m\n\u001b[0;32m    314\u001b[0m log\u001b[39m.\u001b[39mdebug(\u001b[39m\"\u001b[39m\u001b[39m[#0000]  _: <POOL> trying to hand out new connection\u001b[39m\u001b[39m\"\u001b[39m)\n\u001b[1;32m--> 315\u001b[0m \u001b[39mreturn\u001b[39;00m connection_creator()\n",
      "File \u001b[1;32mc:\\Users\\FBNDRA96M\\AppData\\Local\\anaconda3\\envs\\graph_learning\\Lib\\site-packages\\neo4j\\_sync\\io\\_pool.py:167\u001b[0m, in \u001b[0;36mIOPool._acquire_new_later.<locals>.connection_creator\u001b[1;34m()\u001b[0m\n\u001b[0;32m    166\u001b[0m \u001b[39mtry\u001b[39;00m:\n\u001b[1;32m--> 167\u001b[0m     connection \u001b[39m=\u001b[39m \u001b[39mself\u001b[39;49m\u001b[39m.\u001b[39;49mopener(\n\u001b[0;32m    168\u001b[0m         address, auth \u001b[39mor\u001b[39;49;00m \u001b[39mself\u001b[39;49m\u001b[39m.\u001b[39;49mpool_config\u001b[39m.\u001b[39;49mauth, deadline\n\u001b[0;32m    169\u001b[0m     )\n\u001b[0;32m    170\u001b[0m \u001b[39mexcept\u001b[39;00m ServiceUnavailable:\n",
      "File \u001b[1;32mc:\\Users\\FBNDRA96M\\AppData\\Local\\anaconda3\\envs\\graph_learning\\Lib\\site-packages\\neo4j\\_sync\\io\\_pool.py:502\u001b[0m, in \u001b[0;36mBoltPool.open.<locals>.opener\u001b[1;34m(addr, auth_manager, deadline)\u001b[0m\n\u001b[0;32m    501\u001b[0m \u001b[39mdef\u001b[39;00m \u001b[39mopener\u001b[39m(addr, auth_manager, deadline):\n\u001b[1;32m--> 502\u001b[0m     \u001b[39mreturn\u001b[39;00m Bolt\u001b[39m.\u001b[39;49mopen(\n\u001b[0;32m    503\u001b[0m         addr, auth_manager\u001b[39m=\u001b[39;49mauth_manager, deadline\u001b[39m=\u001b[39;49mdeadline,\n\u001b[0;32m    504\u001b[0m         routing_context\u001b[39m=\u001b[39;49m\u001b[39mNone\u001b[39;49;00m, pool_config\u001b[39m=\u001b[39;49mpool_config\n\u001b[0;32m    505\u001b[0m     )\n",
      "File \u001b[1;32mc:\\Users\\FBNDRA96M\\AppData\\Local\\anaconda3\\envs\\graph_learning\\Lib\\site-packages\\neo4j\\_sync\\io\\_bolt.py:402\u001b[0m, in \u001b[0;36mBolt.open\u001b[1;34m(cls, address, auth_manager, deadline, routing_context, pool_config)\u001b[0m\n\u001b[0;32m    399\u001b[0m     deadline \u001b[39m=\u001b[39m Deadline(\u001b[39mNone\u001b[39;00m)\n\u001b[0;32m    401\u001b[0m s, protocol_version, handshake, data \u001b[39m=\u001b[39m \\\n\u001b[1;32m--> 402\u001b[0m     BoltSocket\u001b[39m.\u001b[39;49mconnect(\n\u001b[0;32m    403\u001b[0m         address,\n\u001b[0;32m    404\u001b[0m         tcp_timeout\u001b[39m=\u001b[39;49mpool_config\u001b[39m.\u001b[39;49mconnection_timeout,\n\u001b[0;32m    405\u001b[0m         deadline\u001b[39m=\u001b[39;49mdeadline,\n\u001b[0;32m    406\u001b[0m         custom_resolver\u001b[39m=\u001b[39;49mpool_config\u001b[39m.\u001b[39;49mresolver,\n\u001b[0;32m    407\u001b[0m         ssl_context\u001b[39m=\u001b[39;49mpool_config\u001b[39m.\u001b[39;49mget_ssl_context(),\n\u001b[0;32m    408\u001b[0m         keep_alive\u001b[39m=\u001b[39;49mpool_config\u001b[39m.\u001b[39;49mkeep_alive,\n\u001b[0;32m    409\u001b[0m     )\n\u001b[0;32m    411\u001b[0m pool_config\u001b[39m.\u001b[39mprotocol_version \u001b[39m=\u001b[39m protocol_version\n",
      "File \u001b[1;32mc:\\Users\\FBNDRA96M\\AppData\\Local\\anaconda3\\envs\\graph_learning\\Lib\\site-packages\\neo4j\\_async_compat\\network\\_bolt_socket.py:709\u001b[0m, in \u001b[0;36mBoltSocket.connect\u001b[1;34m(cls, address, tcp_timeout, deadline, custom_resolver, ssl_context, keep_alive)\u001b[0m\n\u001b[0;32m    708\u001b[0m \u001b[39melse\u001b[39;00m:\n\u001b[1;32m--> 709\u001b[0m     \u001b[39mraise\u001b[39;00m ServiceUnavailable(\n\u001b[0;32m    710\u001b[0m         \u001b[39m\"\u001b[39m\u001b[39mCouldn\u001b[39m\u001b[39m'\u001b[39m\u001b[39mt connect to \u001b[39m\u001b[39m%s\u001b[39;00m\u001b[39m (resolved to \u001b[39m\u001b[39m%s\u001b[39;00m\u001b[39m):\u001b[39m\u001b[39m\\n\u001b[39;00m\u001b[39m%s\u001b[39;00m\u001b[39m\"\u001b[39m \u001b[39m%\u001b[39m (\n\u001b[0;32m    711\u001b[0m             \u001b[39mstr\u001b[39m(address), \u001b[39mtuple\u001b[39m(\u001b[39mmap\u001b[39m(\u001b[39mstr\u001b[39m, resolved_addresses)),\n\u001b[0;32m    712\u001b[0m             \u001b[39m\"\u001b[39m\u001b[39m\\n\u001b[39;00m\u001b[39m\"\u001b[39m\u001b[39m.\u001b[39mjoin(\u001b[39mmap\u001b[39m(\u001b[39mstr\u001b[39m, errors))\n\u001b[0;32m    713\u001b[0m         )\n\u001b[0;32m    714\u001b[0m     ) \u001b[39mfrom\u001b[39;00m \u001b[39merrors\u001b[39;00m[\u001b[39m0\u001b[39m]\n",
      "\u001b[1;31mServiceUnavailable\u001b[0m: Couldn't connect to 44.200.7.27:7687 (resolved to ()):\nTimed out trying to establish connection to ResolvedIPv4Address(('44.200.7.27', 7687))",
      "\nDuring handling of the above exception, another exception occurred:\n",
      "\u001b[1;31mValueError\u001b[0m                                Traceback (most recent call last)",
      "\u001b[1;32mc:\\Users\\FBNDRA96M\\OneDrive - DEDAGROUP SPA\\Progetti\\DedaGPT\\Neo4j Chatbot\\llm-chatbot-python\\prova.ipynb Cell 16\u001b[0m line \u001b[0;36m1\n\u001b[0;32m      <a href='vscode-notebook-cell:/c%3A/Users/FBNDRA96M/OneDrive%20-%20DEDAGROUP%20SPA/Progetti/DedaGPT/Neo4j%20Chatbot/llm-chatbot-python/prova.ipynb#X22sZmlsZQ%3D%3D?line=4'>5</a>\u001b[0m \u001b[39mimport\u001b[39;00m \u001b[39mstreamlit\u001b[39;00m \u001b[39mas\u001b[39;00m \u001b[39mst\u001b[39;00m\n\u001b[0;32m      <a href='vscode-notebook-cell:/c%3A/Users/FBNDRA96M/OneDrive%20-%20DEDAGROUP%20SPA/Progetti/DedaGPT/Neo4j%20Chatbot/llm-chatbot-python/prova.ipynb#X22sZmlsZQ%3D%3D?line=6'>7</a>\u001b[0m llm \u001b[39m=\u001b[39m ChatOpenAI(\n\u001b[0;32m      <a href='vscode-notebook-cell:/c%3A/Users/FBNDRA96M/OneDrive%20-%20DEDAGROUP%20SPA/Progetti/DedaGPT/Neo4j%20Chatbot/llm-chatbot-python/prova.ipynb#X22sZmlsZQ%3D%3D?line=7'>8</a>\u001b[0m     openai_api_key\u001b[39m=\u001b[39mst\u001b[39m.\u001b[39msecrets[\u001b[39m\"\u001b[39m\u001b[39mOPENAI_API_KEY\u001b[39m\u001b[39m\"\u001b[39m]\n\u001b[0;32m      <a href='vscode-notebook-cell:/c%3A/Users/FBNDRA96M/OneDrive%20-%20DEDAGROUP%20SPA/Progetti/DedaGPT/Neo4j%20Chatbot/llm-chatbot-python/prova.ipynb#X22sZmlsZQ%3D%3D?line=8'>9</a>\u001b[0m )\n\u001b[1;32m---> <a href='vscode-notebook-cell:/c%3A/Users/FBNDRA96M/OneDrive%20-%20DEDAGROUP%20SPA/Progetti/DedaGPT/Neo4j%20Chatbot/llm-chatbot-python/prova.ipynb#X22sZmlsZQ%3D%3D?line=10'>11</a>\u001b[0m graph \u001b[39m=\u001b[39m Neo4jGraph(\n\u001b[0;32m     <a href='vscode-notebook-cell:/c%3A/Users/FBNDRA96M/OneDrive%20-%20DEDAGROUP%20SPA/Progetti/DedaGPT/Neo4j%20Chatbot/llm-chatbot-python/prova.ipynb#X22sZmlsZQ%3D%3D?line=11'>12</a>\u001b[0m     url\u001b[39m=\u001b[39;49m\u001b[39m\"\u001b[39;49m\u001b[39mbolt://3.93.219.226:7687\u001b[39;49m\u001b[39m\"\u001b[39;49m,\n\u001b[0;32m     <a href='vscode-notebook-cell:/c%3A/Users/FBNDRA96M/OneDrive%20-%20DEDAGROUP%20SPA/Progetti/DedaGPT/Neo4j%20Chatbot/llm-chatbot-python/prova.ipynb#X22sZmlsZQ%3D%3D?line=12'>13</a>\u001b[0m     username\u001b[39m=\u001b[39;49m\u001b[39m\"\u001b[39;49m\u001b[39mneo4j\u001b[39;49m\u001b[39m\"\u001b[39;49m,\n\u001b[0;32m     <a href='vscode-notebook-cell:/c%3A/Users/FBNDRA96M/OneDrive%20-%20DEDAGROUP%20SPA/Progetti/DedaGPT/Neo4j%20Chatbot/llm-chatbot-python/prova.ipynb#X22sZmlsZQ%3D%3D?line=13'>14</a>\u001b[0m     password\u001b[39m=\u001b[39;49m\u001b[39m\"\u001b[39;49m\u001b[39mticks-sex-fields\u001b[39;49m\u001b[39m\"\u001b[39;49m,\n\u001b[0;32m     <a href='vscode-notebook-cell:/c%3A/Users/FBNDRA96M/OneDrive%20-%20DEDAGROUP%20SPA/Progetti/DedaGPT/Neo4j%20Chatbot/llm-chatbot-python/prova.ipynb#X22sZmlsZQ%3D%3D?line=14'>15</a>\u001b[0m )\n\u001b[0;32m     <a href='vscode-notebook-cell:/c%3A/Users/FBNDRA96M/OneDrive%20-%20DEDAGROUP%20SPA/Progetti/DedaGPT/Neo4j%20Chatbot/llm-chatbot-python/prova.ipynb#X22sZmlsZQ%3D%3D?line=16'>17</a>\u001b[0m CYPHER_GENERATION_TEMPLATE \u001b[39m=\u001b[39m \u001b[39m\"\"\"\u001b[39m\n\u001b[0;32m     <a href='vscode-notebook-cell:/c%3A/Users/FBNDRA96M/OneDrive%20-%20DEDAGROUP%20SPA/Progetti/DedaGPT/Neo4j%20Chatbot/llm-chatbot-python/prova.ipynb#X22sZmlsZQ%3D%3D?line=17'>18</a>\u001b[0m \u001b[39mYou are an expert Neo4j Developer translating user questions into Cypher to answer questions about movies and provide recommendations.\u001b[39m\n\u001b[0;32m     <a href='vscode-notebook-cell:/c%3A/Users/FBNDRA96M/OneDrive%20-%20DEDAGROUP%20SPA/Progetti/DedaGPT/Neo4j%20Chatbot/llm-chatbot-python/prova.ipynb#X22sZmlsZQ%3D%3D?line=18'>19</a>\u001b[0m \u001b[39mConvert the user\u001b[39m\u001b[39m'\u001b[39m\u001b[39ms question based on the schema.\u001b[39m\n\u001b[1;32m   (...)\u001b[0m\n\u001b[0;32m     <a href='vscode-notebook-cell:/c%3A/Users/FBNDRA96M/OneDrive%20-%20DEDAGROUP%20SPA/Progetti/DedaGPT/Neo4j%20Chatbot/llm-chatbot-python/prova.ipynb#X22sZmlsZQ%3D%3D?line=21'>22</a>\u001b[0m \u001b[39mQuestion: \u001b[39m\u001b[39m{question}\u001b[39;00m\n\u001b[0;32m     <a href='vscode-notebook-cell:/c%3A/Users/FBNDRA96M/OneDrive%20-%20DEDAGROUP%20SPA/Progetti/DedaGPT/Neo4j%20Chatbot/llm-chatbot-python/prova.ipynb#X22sZmlsZQ%3D%3D?line=22'>23</a>\u001b[0m \u001b[39m\"\"\"\u001b[39m\n\u001b[0;32m     <a href='vscode-notebook-cell:/c%3A/Users/FBNDRA96M/OneDrive%20-%20DEDAGROUP%20SPA/Progetti/DedaGPT/Neo4j%20Chatbot/llm-chatbot-python/prova.ipynb#X22sZmlsZQ%3D%3D?line=24'>25</a>\u001b[0m cypher_generation_prompt \u001b[39m=\u001b[39m PromptTemplate(\n\u001b[0;32m     <a href='vscode-notebook-cell:/c%3A/Users/FBNDRA96M/OneDrive%20-%20DEDAGROUP%20SPA/Progetti/DedaGPT/Neo4j%20Chatbot/llm-chatbot-python/prova.ipynb#X22sZmlsZQ%3D%3D?line=25'>26</a>\u001b[0m     template\u001b[39m=\u001b[39mCYPHER_GENERATION_TEMPLATE,\n\u001b[0;32m     <a href='vscode-notebook-cell:/c%3A/Users/FBNDRA96M/OneDrive%20-%20DEDAGROUP%20SPA/Progetti/DedaGPT/Neo4j%20Chatbot/llm-chatbot-python/prova.ipynb#X22sZmlsZQ%3D%3D?line=26'>27</a>\u001b[0m     input_variables\u001b[39m=\u001b[39m[\u001b[39m\"\u001b[39m\u001b[39mschema\u001b[39m\u001b[39m\"\u001b[39m, \u001b[39m\"\u001b[39m\u001b[39mquestion\u001b[39m\u001b[39m\"\u001b[39m],\n\u001b[0;32m     <a href='vscode-notebook-cell:/c%3A/Users/FBNDRA96M/OneDrive%20-%20DEDAGROUP%20SPA/Progetti/DedaGPT/Neo4j%20Chatbot/llm-chatbot-python/prova.ipynb#X22sZmlsZQ%3D%3D?line=27'>28</a>\u001b[0m )\n",
      "File \u001b[1;32mc:\\Users\\FBNDRA96M\\AppData\\Local\\anaconda3\\envs\\graph_learning\\Lib\\site-packages\\langchain\\graphs\\neo4j_graph.py:77\u001b[0m, in \u001b[0;36mNeo4jGraph.__init__\u001b[1;34m(self, url, username, password, database)\u001b[0m\n\u001b[0;32m     75\u001b[0m     \u001b[39mself\u001b[39m\u001b[39m.\u001b[39m_driver\u001b[39m.\u001b[39mverify_connectivity()\n\u001b[0;32m     76\u001b[0m \u001b[39mexcept\u001b[39;00m neo4j\u001b[39m.\u001b[39mexceptions\u001b[39m.\u001b[39mServiceUnavailable:\n\u001b[1;32m---> 77\u001b[0m     \u001b[39mraise\u001b[39;00m \u001b[39mValueError\u001b[39;00m(\n\u001b[0;32m     78\u001b[0m         \u001b[39m\"\u001b[39m\u001b[39mCould not connect to Neo4j database. \u001b[39m\u001b[39m\"\u001b[39m\n\u001b[0;32m     79\u001b[0m         \u001b[39m\"\u001b[39m\u001b[39mPlease ensure that the url is correct\u001b[39m\u001b[39m\"\u001b[39m\n\u001b[0;32m     80\u001b[0m     )\n\u001b[0;32m     81\u001b[0m \u001b[39mexcept\u001b[39;00m neo4j\u001b[39m.\u001b[39mexceptions\u001b[39m.\u001b[39mAuthError:\n\u001b[0;32m     82\u001b[0m     \u001b[39mraise\u001b[39;00m \u001b[39mValueError\u001b[39;00m(\n\u001b[0;32m     83\u001b[0m         \u001b[39m\"\u001b[39m\u001b[39mCould not connect to Neo4j database. \u001b[39m\u001b[39m\"\u001b[39m\n\u001b[0;32m     84\u001b[0m         \u001b[39m\"\u001b[39m\u001b[39mPlease ensure that the username and password are correct\u001b[39m\u001b[39m\"\u001b[39m\n\u001b[0;32m     85\u001b[0m     )\n",
      "\u001b[1;31mValueError\u001b[0m: Could not connect to Neo4j database. Please ensure that the url is correct"
     ]
    }
   ],
   "source": [
    "from langchain.chat_models import ChatOpenAI\n",
    "from langchain.graphs import Neo4jGraph\n",
    "from langchain.chains import GraphCypherQAChain\n",
    "from langchain.prompts import PromptTemplate\n",
    "import streamlit as st\n",
    "\n",
    "llm = ChatOpenAI(\n",
    "    openai_api_key=st.secrets[\"OPENAI_API_KEY\"]\n",
    ")\n",
    "\n",
    "graph = Neo4jGraph(\n",
    "    url=\"bolt://3.93.219.226:7687\",\n",
    "    username=\"neo4j\",\n",
    "    password=\"ticks-sex-fields\",\n",
    ")\n",
    "\n",
    "CYPHER_GENERATION_TEMPLATE = \"\"\"\n",
    "You are an expert Neo4j Developer translating user questions into Cypher to answer questions about movies and provide recommendations.\n",
    "Convert the user's question based on the schema.\n",
    "\n",
    "Schema: {schema}\n",
    "Question: {question}\n",
    "\"\"\"\n",
    "\n",
    "#The \"schema\" will be automatically generated from the graph database and passed to the LLM. \n",
    "# The \"question\" will be the user’s question.\n",
    "\n",
    "cypher_generation_prompt = PromptTemplate(\n",
    "    template=CYPHER_GENERATION_TEMPLATE,\n",
    "    input_variables=[\"schema\", \"question\"],\n",
    ")\n",
    "\n",
    "cypher_chain = GraphCypherQAChain.from_llm(\n",
    "    llm,\n",
    "    graph=graph,\n",
    "    cypher_prompt=cypher_generation_prompt,\n",
    "    verbose=True # see the cypher query\n",
    ")\n",
    "\n",
    "cypher_chain.run(\"What role did Tom Hanks play in Toy Story?\")"
   ]
  },
  {
   "cell_type": "markdown",
   "metadata": {},
   "source": [
    "The LLM used the database schema to generate an appropriate Cypher query. Langchain then executed the query against the graph database, and the result returned."
   ]
  }
 ],
 "metadata": {
  "kernelspec": {
   "display_name": "Python 3",
   "language": "python",
   "name": "python3"
  },
  "language_info": {
   "codemirror_mode": {
    "name": "ipython",
    "version": 3
   },
   "file_extension": ".py",
   "mimetype": "text/x-python",
   "name": "python",
   "nbconvert_exporter": "python",
   "pygments_lexer": "ipython3",
   "version": "3.11.5"
  }
 },
 "nbformat": 4,
 "nbformat_minor": 2
}
